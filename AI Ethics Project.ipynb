{
 "cells": [
  {
   "cell_type": "markdown",
   "metadata": {
    "graffitiCellId": "id_xuyxolj"
   },
   "source": [
    "# AI Ethics Project - STARTER\n",
    "\n",
    "Personalization is a central aspect of many core AI systems. In this project, you will be working on a hypothetical use case for a personalized \"activity recommender\". The use case has a medium ethical AI risk level and involves a synthetic dataset.\n",
    "\n",
    "IDOOU is a mobile app users can leverage to get recommendations on activities they can take in a given area, like “visiting a movie theater”, “visiting a park”, “sightseeing”, “hiking”, or “visiting a library”.\n",
    "\n",
    "\n",
    "**Problem statement**:\n",
    "\n",
    "IDOOU's creators would like to identify if users with bachelor's and master's degrees are a privileged group in terms of budget. In other words, do users with higher education credentials beyond high school have a budget >= $300 compared to users of the app who graduated from high school? \n",
    "\n",
    "You are tasked with designing IDOOU's newest AI model to predict the budget of its users (in US dollars) given information such as their gender, age, and education_level. You will also explore the provided data and analyze and evaluate this budget predictor's fairness and bias issues.\n",
    "\n",
    "\n",
    "**Key points**:\n",
    "\n",
    "- The data was conducted through a user experience study of about 300,000 participants.\n",
    "- The user may choose not to provide any or all the information the app requests. The training data also reflects this.\n",
    "- Fairness framework definitions for the use case are not necessarily focusing on socioeconomic privilege."
   ]
  },
  {
   "cell_type": "code",
   "execution_count": 2,
   "metadata": {
    "graffitiCellId": "id_yg4vdmb"
   },
   "outputs": [
    {
     "name": "stdout",
     "output_type": "stream",
     "text": [
      "Defaulting to user installation because normal site-packages is not writeable\n",
      "Requirement already satisfied: aif360 in /root/.local/lib/python3.7/site-packages (0.5.0)\n",
      "Requirement already satisfied: scipy>=1.2.0 in /opt/conda/lib/python3.7/site-packages (from aif360) (1.7.1)\n",
      "Requirement already satisfied: numpy>=1.16 in /opt/conda/lib/python3.7/site-packages (from aif360) (1.21.2)\n",
      "Requirement already satisfied: pandas>=0.24.0 in /opt/conda/lib/python3.7/site-packages (from aif360) (1.3.3)\n",
      "Requirement already satisfied: scikit-learn>=1.0 in /opt/conda/lib/python3.7/site-packages (from aif360) (1.0)\n",
      "Requirement already satisfied: matplotlib in /opt/conda/lib/python3.7/site-packages (from aif360) (3.4.3)\n",
      "Requirement already satisfied: python-dateutil>=2.7.3 in /opt/conda/lib/python3.7/site-packages (from pandas>=0.24.0->aif360) (2.8.1)\n",
      "Requirement already satisfied: pytz>=2017.3 in /opt/conda/lib/python3.7/site-packages (from pandas>=0.24.0->aif360) (2019.3)\n",
      "Requirement already satisfied: threadpoolctl>=2.0.0 in /opt/conda/lib/python3.7/site-packages (from scikit-learn>=1.0->aif360) (3.1.0)\n",
      "Requirement already satisfied: joblib>=0.11 in /opt/conda/lib/python3.7/site-packages (from scikit-learn>=1.0->aif360) (0.14.1)\n",
      "Requirement already satisfied: pillow>=6.2.0 in /opt/conda/lib/python3.7/site-packages (from matplotlib->aif360) (7.0.0)\n",
      "Requirement already satisfied: cycler>=0.10 in /opt/conda/lib/python3.7/site-packages (from matplotlib->aif360) (0.10.0)\n",
      "Requirement already satisfied: kiwisolver>=1.0.1 in /opt/conda/lib/python3.7/site-packages (from matplotlib->aif360) (1.1.0)\n",
      "Requirement already satisfied: pyparsing>=2.2.1 in /opt/conda/lib/python3.7/site-packages (from matplotlib->aif360) (2.4.6)\n",
      "Requirement already satisfied: six>=1.5 in /opt/conda/lib/python3.7/site-packages (from python-dateutil>=2.7.3->pandas>=0.24.0->aif360) (1.16.0)\n",
      "Requirement already satisfied: setuptools in /opt/conda/lib/python3.7/site-packages (from kiwisolver>=1.0.1->matplotlib->aif360) (45.2.0.post20200209)\n",
      "Defaulting to user installation because normal site-packages is not writeable\n",
      "Requirement already satisfied: tensorflow in /root/.local/lib/python3.7/site-packages (2.11.0)\n",
      "Requirement already satisfied: opt-einsum>=2.3.2 in /opt/conda/lib/python3.7/site-packages (from tensorflow) (3.2.0)\n",
      "Requirement already satisfied: packaging in /opt/conda/lib/python3.7/site-packages (from tensorflow) (20.1)\n",
      "Requirement already satisfied: h5py>=2.9.0 in /opt/conda/lib/python3.7/site-packages (from tensorflow) (2.10.0)\n",
      "Requirement already satisfied: grpcio<2.0,>=1.24.3 in /opt/conda/lib/python3.7/site-packages (from tensorflow) (1.27.2)\n",
      "Requirement already satisfied: tensorboard<2.12,>=2.11 in /root/.local/lib/python3.7/site-packages (from tensorflow) (2.11.2)\n",
      "Requirement already satisfied: flatbuffers>=2.0 in /root/.local/lib/python3.7/site-packages (from tensorflow) (24.3.7)\n",
      "Requirement already satisfied: google-pasta>=0.1.1 in /opt/conda/lib/python3.7/site-packages (from tensorflow) (0.1.8)\n",
      "Requirement already satisfied: keras<2.12,>=2.11.0 in /root/.local/lib/python3.7/site-packages (from tensorflow) (2.11.0)\n",
      "Requirement already satisfied: tensorflow-estimator<2.12,>=2.11.0 in /root/.local/lib/python3.7/site-packages (from tensorflow) (2.11.0)\n",
      "Requirement already satisfied: gast<=0.4.0,>=0.2.1 in /opt/conda/lib/python3.7/site-packages (from tensorflow) (0.2.2)\n",
      "Requirement already satisfied: wrapt>=1.11.0 in /opt/conda/lib/python3.7/site-packages (from tensorflow) (1.12.0)\n",
      "Requirement already satisfied: absl-py>=1.0.0 in /root/.local/lib/python3.7/site-packages (from tensorflow) (2.1.0)\n",
      "Requirement already satisfied: tensorflow-io-gcs-filesystem>=0.23.1; platform_machine != \"arm64\" or platform_system != \"Darwin\" in /root/.local/lib/python3.7/site-packages (from tensorflow) (0.34.0)\n",
      "Requirement already satisfied: six>=1.12.0 in /opt/conda/lib/python3.7/site-packages (from tensorflow) (1.16.0)\n",
      "Requirement already satisfied: libclang>=13.0.0 in /root/.local/lib/python3.7/site-packages (from tensorflow) (16.0.6)\n",
      "Requirement already satisfied: typing-extensions>=3.6.6 in /opt/conda/lib/python3.7/site-packages (from tensorflow) (3.7.4.1)\n",
      "Requirement already satisfied: protobuf<3.20,>=3.9.2 in /opt/conda/lib/python3.7/site-packages (from tensorflow) (3.11.4)\n",
      "Requirement already satisfied: astunparse>=1.6.0 in /root/.local/lib/python3.7/site-packages (from tensorflow) (1.6.3)\n",
      "Requirement already satisfied: setuptools in /opt/conda/lib/python3.7/site-packages (from tensorflow) (45.2.0.post20200209)\n",
      "Requirement already satisfied: termcolor>=1.1.0 in /opt/conda/lib/python3.7/site-packages (from tensorflow) (1.1.0)\n",
      "Requirement already satisfied: numpy>=1.20 in /opt/conda/lib/python3.7/site-packages (from tensorflow) (1.21.2)\n",
      "Requirement already satisfied: pyparsing>=2.0.2 in /opt/conda/lib/python3.7/site-packages (from packaging->tensorflow) (2.4.6)\n",
      "Requirement already satisfied: tensorboard-data-server<0.7.0,>=0.6.0 in /root/.local/lib/python3.7/site-packages (from tensorboard<2.12,>=2.11->tensorflow) (0.6.1)\n",
      "Requirement already satisfied: tensorboard-plugin-wit>=1.6.0 in /root/.local/lib/python3.7/site-packages (from tensorboard<2.12,>=2.11->tensorflow) (1.8.1)\n",
      "Requirement already satisfied: wheel>=0.26 in /opt/conda/lib/python3.7/site-packages (from tensorboard<2.12,>=2.11->tensorflow) (0.34.2)\n",
      "Requirement already satisfied: markdown>=2.6.8 in /opt/conda/lib/python3.7/site-packages (from tensorboard<2.12,>=2.11->tensorflow) (3.2.1)\n",
      "Requirement already satisfied: google-auth-oauthlib<0.5,>=0.4.1 in /opt/conda/lib/python3.7/site-packages (from tensorboard<2.12,>=2.11->tensorflow) (0.4.1)\n",
      "Requirement already satisfied: google-auth<3,>=1.6.3 in /opt/conda/lib/python3.7/site-packages (from tensorboard<2.12,>=2.11->tensorflow) (1.11.2)\n",
      "Requirement already satisfied: requests<3,>=2.21.0 in /opt/conda/lib/python3.7/site-packages (from tensorboard<2.12,>=2.11->tensorflow) (2.23.0)\n",
      "Requirement already satisfied: werkzeug>=1.0.1 in /root/.local/lib/python3.7/site-packages (from tensorboard<2.12,>=2.11->tensorflow) (2.2.3)\n",
      "Requirement already satisfied: requests-oauthlib>=0.7.0 in /opt/conda/lib/python3.7/site-packages (from google-auth-oauthlib<0.5,>=0.4.1->tensorboard<2.12,>=2.11->tensorflow) (1.2.0)\n",
      "Requirement already satisfied: cachetools<5.0,>=2.0.0 in /opt/conda/lib/python3.7/site-packages (from google-auth<3,>=1.6.3->tensorboard<2.12,>=2.11->tensorflow) (3.1.1)\n",
      "Requirement already satisfied: rsa<4.1,>=3.1.4 in /opt/conda/lib/python3.7/site-packages (from google-auth<3,>=1.6.3->tensorboard<2.12,>=2.11->tensorflow) (4.0)\n",
      "Requirement already satisfied: pyasn1-modules>=0.2.1 in /opt/conda/lib/python3.7/site-packages (from google-auth<3,>=1.6.3->tensorboard<2.12,>=2.11->tensorflow) (0.2.7)\n",
      "Requirement already satisfied: urllib3!=1.25.0,!=1.25.1,<1.26,>=1.21.1 in /opt/conda/lib/python3.7/site-packages (from requests<3,>=2.21.0->tensorboard<2.12,>=2.11->tensorflow) (1.25.7)\n",
      "Requirement already satisfied: chardet<4,>=3.0.2 in /opt/conda/lib/python3.7/site-packages (from requests<3,>=2.21.0->tensorboard<2.12,>=2.11->tensorflow) (3.0.4)\n",
      "Requirement already satisfied: idna<3,>=2.5 in /opt/conda/lib/python3.7/site-packages (from requests<3,>=2.21.0->tensorboard<2.12,>=2.11->tensorflow) (2.9)\n",
      "Requirement already satisfied: certifi>=2017.4.17 in /opt/conda/lib/python3.7/site-packages (from requests<3,>=2.21.0->tensorboard<2.12,>=2.11->tensorflow) (2019.11.28)\n",
      "Requirement already satisfied: MarkupSafe>=2.1.1 in /root/.local/lib/python3.7/site-packages (from werkzeug>=1.0.1->tensorboard<2.12,>=2.11->tensorflow) (2.1.5)\n",
      "Requirement already satisfied: oauthlib>=3.0.0 in /opt/conda/lib/python3.7/site-packages (from requests-oauthlib>=0.7.0->google-auth-oauthlib<0.5,>=0.4.1->tensorboard<2.12,>=2.11->tensorflow) (3.0.1)\n",
      "Requirement already satisfied: pyasn1>=0.1.3 in /opt/conda/lib/python3.7/site-packages (from rsa<4.1,>=3.1.4->google-auth<3,>=1.6.3->tensorboard<2.12,>=2.11->tensorflow) (0.4.8)\n",
      "Defaulting to user installation because normal site-packages is not writeable\n",
      "Requirement already satisfied: jinja2 in /opt/conda/lib/python3.7/site-packages (2.11.1)\n",
      "Requirement already satisfied: MarkupSafe>=0.23 in /root/.local/lib/python3.7/site-packages (from jinja2) (2.1.5)\n",
      "Defaulting to user installation because normal site-packages is not writeable\n",
      "Requirement already satisfied: fairlearn in /root/.local/lib/python3.7/site-packages (0.7.0)\n",
      "Requirement already satisfied: pandas>=0.25.1 in /opt/conda/lib/python3.7/site-packages (from fairlearn) (1.3.3)\n",
      "Requirement already satisfied: scipy>=1.4.1 in /opt/conda/lib/python3.7/site-packages (from fairlearn) (1.7.1)\n",
      "Requirement already satisfied: numpy>=1.17.2 in /opt/conda/lib/python3.7/site-packages (from fairlearn) (1.21.2)\n",
      "Requirement already satisfied: scikit-learn>=0.22.1 in /opt/conda/lib/python3.7/site-packages (from fairlearn) (1.0)\n",
      "Requirement already satisfied: python-dateutil>=2.7.3 in /opt/conda/lib/python3.7/site-packages (from pandas>=0.25.1->fairlearn) (2.8.1)\n",
      "Requirement already satisfied: pytz>=2017.3 in /opt/conda/lib/python3.7/site-packages (from pandas>=0.25.1->fairlearn) (2019.3)\n",
      "Requirement already satisfied: joblib>=0.11 in /opt/conda/lib/python3.7/site-packages (from scikit-learn>=0.22.1->fairlearn) (0.14.1)\n",
      "Requirement already satisfied: threadpoolctl>=2.0.0 in /opt/conda/lib/python3.7/site-packages (from scikit-learn>=0.22.1->fairlearn) (3.1.0)\n",
      "Requirement already satisfied: six>=1.5 in /opt/conda/lib/python3.7/site-packages (from python-dateutil>=2.7.3->pandas>=0.25.1->fairlearn) (1.16.0)\n"
     ]
    }
   ],
   "source": [
    "!pip install aif360\n",
    "!pip install tensorflow\n",
    "!pip install jinja2\n",
    "!pip install fairlearn"
   ]
  },
  {
   "cell_type": "markdown",
   "metadata": {
    "graffitiCellId": "id_3fbc75c"
   },
   "source": [
    "**Note:** Please restart the Jupyter Notebook kernel before proceeding with the package imports."
   ]
  },
  {
   "cell_type": "code",
   "execution_count": 1,
   "metadata": {
    "graffitiCellId": "id_fski7gu"
   },
   "outputs": [
    {
     "name": "stderr",
     "output_type": "stream",
     "text": [
      "WARNING:root:No module named 'tempeh': LawSchoolGPADataset will be unavailable. To install, run:\n",
      "pip install 'aif360[LawSchoolGPA]'\n"
     ]
    }
   ],
   "source": [
    "#You may add additional imports as needed\n",
    "import pandas as pd\n",
    "import numpy as np\n",
    "import seaborn as sns\n",
    "import tempfile\n",
    "from aif360.datasets import StandardDataset, BinaryLabelDataset\n",
    "from aif360.metrics import ClassificationMetric, BinaryLabelDatasetMetric\n",
    "from sklearn.tree import DecisionTreeClassifier\n",
    "from sklearn.ensemble import RandomForestClassifier\n",
    "from aif360.algorithms.postprocessing import RejectOptionClassification\n",
    "from aif360.algorithms.preprocessing import Reweighing\n",
    "from sklearn.model_selection import train_test_split\n",
    "from sklearn.pipeline import make_pipeline\n",
    "from sklearn.metrics import confusion_matrix, ConfusionMatrixDisplay\n",
    "from sklearn.linear_model import LogisticRegression\n",
    "from sklearn.naive_bayes import GaussianNB\n",
    "from sklearn.metrics import accuracy_score\n",
    "from fairlearn.preprocessing import CorrelationRemover\n",
    "\n",
    "import joblib\n",
    "import matplotlib.pyplot as plt\n",
    "from collections import defaultdict"
   ]
  },
  {
   "cell_type": "code",
   "execution_count": 2,
   "metadata": {
    "graffitiCellId": "id_50nvojt"
   },
   "outputs": [],
   "source": [
    "#Load the dataset for this project\n",
    "act_rec_dataset = pd.read_csv('udacity_ai_ethics_project_data.csv')\n",
    "act_rec_dataset.head()\n",
    "df = act_rec_dataset.copy()"
   ]
  },
  {
   "cell_type": "markdown",
   "metadata": {
    "graffitiCellId": "id_3vpth5q"
   },
   "source": [
    "## Step 1: Data Pre-Processing and Evaluation\n",
    "\n",
    "For this problem statement, you will need to prepare a dataset with all categorical variables, which requires the following pre-processing steps:\n",
    "\n",
    "\n",
    "- Remove the NA values from the dataset\n",
    "- Convert Age and Budget (in dollars) to categorical columns with the following binning:\n",
    "\n",
    "> Bins for Age: 18-24, 25-44, 45-65, 66-92\n",
    "\n",
    "> Bins for Budget: >=300, <300"
   ]
  },
  {
   "cell_type": "code",
   "execution_count": 3,
   "metadata": {
    "graffitiCellId": "id_w7awbv4"
   },
   "outputs": [
    {
     "data": {
      "text/plain": [
       "300000"
      ]
     },
     "execution_count": 3,
     "metadata": {},
     "output_type": "execute_result"
    }
   ],
   "source": [
    "len(act_rec_dataset)"
   ]
  },
  {
   "cell_type": "code",
   "execution_count": 4,
   "metadata": {
    "graffitiCellId": "id_gqvzl63"
   },
   "outputs": [
    {
     "data": {
      "text/plain": [
       "Budget (in dollars)         0\n",
       "Age                         0\n",
       "Gender                  49799\n",
       "Education_Level         43592\n",
       "With children?          83849\n",
       "Recommended_Activity        0\n",
       "dtype: int64"
      ]
     },
     "execution_count": 4,
     "metadata": {},
     "output_type": "execute_result"
    }
   ],
   "source": [
    "act_rec_dataset.isna().sum()"
   ]
  },
  {
   "cell_type": "code",
   "execution_count": 5,
   "metadata": {
    "graffitiCellId": "id_wp0utbn"
   },
   "outputs": [],
   "source": [
    "act_rec_dataset.dropna(axis=0, subset=['Gender', 'Education_Level'], inplace=True)"
   ]
  },
  {
   "cell_type": "code",
   "execution_count": 6,
   "metadata": {
    "graffitiCellId": "id_nn681ca"
   },
   "outputs": [
    {
     "data": {
      "text/plain": [
       "213855"
      ]
     },
     "execution_count": 6,
     "metadata": {},
     "output_type": "execute_result"
    }
   ],
   "source": [
    "len(act_rec_dataset)"
   ]
  },
  {
   "cell_type": "code",
   "execution_count": 7,
   "metadata": {
    "graffitiCellId": "id_hau1z6b"
   },
   "outputs": [
    {
     "data": {
      "text/plain": [
       "Budget (in dollars)         0\n",
       "Age                         0\n",
       "Gender                      0\n",
       "Education_Level             0\n",
       "With children?          57538\n",
       "Recommended_Activity        0\n",
       "dtype: int64"
      ]
     },
     "execution_count": 7,
     "metadata": {},
     "output_type": "execute_result"
    }
   ],
   "source": [
    "act_rec_dataset.isna().sum()"
   ]
  },
  {
   "cell_type": "code",
   "execution_count": 8,
   "metadata": {
    "graffitiCellId": "id_l9po4pl"
   },
   "outputs": [],
   "source": [
    "act_rec_dataset = act_rec_dataset.loc[:, act_rec_dataset.columns != 'With children?']"
   ]
  },
  {
   "cell_type": "code",
   "execution_count": 9,
   "metadata": {
    "graffitiCellId": "id_hxh0yhq"
   },
   "outputs": [
    {
     "data": {
      "text/html": [
       "<div>\n",
       "<style scoped>\n",
       "    .dataframe tbody tr th:only-of-type {\n",
       "        vertical-align: middle;\n",
       "    }\n",
       "\n",
       "    .dataframe tbody tr th {\n",
       "        vertical-align: top;\n",
       "    }\n",
       "\n",
       "    .dataframe thead th {\n",
       "        text-align: right;\n",
       "    }\n",
       "</style>\n",
       "<table border=\"1\" class=\"dataframe\">\n",
       "  <thead>\n",
       "    <tr style=\"text-align: right;\">\n",
       "      <th></th>\n",
       "      <th>Budget (in dollars)</th>\n",
       "      <th>Age</th>\n",
       "      <th>Gender</th>\n",
       "      <th>Education_Level</th>\n",
       "      <th>Recommended_Activity</th>\n",
       "    </tr>\n",
       "  </thead>\n",
       "  <tbody>\n",
       "    <tr>\n",
       "      <th>0</th>\n",
       "      <td>high_budget</td>\n",
       "      <td>adult</td>\n",
       "      <td>Transgender</td>\n",
       "      <td>Bachelor’s Degree</td>\n",
       "      <td>Stay in: Watch calming TV</td>\n",
       "    </tr>\n",
       "    <tr>\n",
       "      <th>1</th>\n",
       "      <td>high_budget</td>\n",
       "      <td>elder</td>\n",
       "      <td>Other</td>\n",
       "      <td>Bachelor’s Degree</td>\n",
       "      <td>Play: Visit a movie theater</td>\n",
       "    </tr>\n",
       "    <tr>\n",
       "      <th>3</th>\n",
       "      <td>low_budget</td>\n",
       "      <td>young_adult</td>\n",
       "      <td>Non-binary</td>\n",
       "      <td>Other</td>\n",
       "      <td>Play: Visit a movie theater</td>\n",
       "    </tr>\n",
       "    <tr>\n",
       "      <th>4</th>\n",
       "      <td>high_budget</td>\n",
       "      <td>elder</td>\n",
       "      <td>Non-binary</td>\n",
       "      <td>Master’s Degree</td>\n",
       "      <td>Learn: Visit a library</td>\n",
       "    </tr>\n",
       "    <tr>\n",
       "      <th>5</th>\n",
       "      <td>high_budget</td>\n",
       "      <td>adult</td>\n",
       "      <td>Male</td>\n",
       "      <td>Bachelor’s Degree</td>\n",
       "      <td>Play: Go shopping</td>\n",
       "    </tr>\n",
       "  </tbody>\n",
       "</table>\n",
       "</div>"
      ],
      "text/plain": [
       "  Budget (in dollars)          Age       Gender    Education_Level  \\\n",
       "0         high_budget        adult  Transgender  Bachelor’s Degree   \n",
       "1         high_budget        elder        Other  Bachelor’s Degree   \n",
       "3          low_budget  young_adult   Non-binary              Other   \n",
       "4         high_budget        elder   Non-binary    Master’s Degree   \n",
       "5         high_budget        adult         Male  Bachelor’s Degree   \n",
       "\n",
       "          Recommended_Activity  \n",
       "0    Stay in: Watch calming TV  \n",
       "1  Play: Visit a movie theater  \n",
       "3  Play: Visit a movie theater  \n",
       "4       Learn: Visit a library  \n",
       "5            Play: Go shopping  "
      ]
     },
     "execution_count": 9,
     "metadata": {},
     "output_type": "execute_result"
    }
   ],
   "source": [
    "#FILL IN - the below dataframe should be pre-processed\n",
    "def age_bins(x):\n",
    "    if 18 <= x < 25:\n",
    "        return 'young_adult'\n",
    "    elif 25 <= x < 45:\n",
    "        return 'adult'\n",
    "    elif 45 <= x < 66:\n",
    "        return 'middle_aged'\n",
    "    elif 66 <= x < 93:\n",
    "        return 'elder'\n",
    "    \n",
    "def budget_bins(x):\n",
    "    if x >= 300:\n",
    "        return 'high_budget'\n",
    "    else:\n",
    "        return 'low_budget'\n",
    "    \n",
    "act_rec_dataset['Age'] = act_rec_dataset['Age'].apply(lambda x: age_bins(x))\n",
    "act_rec_dataset['Budget (in dollars)'] = act_rec_dataset['Budget (in dollars)'].apply(lambda x: budget_bins(x))\n",
    "\n",
    "act_rec_dataset.head()"
   ]
  },
  {
   "cell_type": "markdown",
   "metadata": {
    "graffitiCellId": "id_dmttn19"
   },
   "source": [
    "### Evaluate bias issues in the dataset"
   ]
  },
  {
   "cell_type": "markdown",
   "metadata": {
    "graffitiCellId": "id_9ifux3w"
   },
   "source": [
    "Next, let's take a look at potential hints of data bias in the variables, particularly the \"Gender\", \"Age\", and \"Education\" variables.\n",
    "\n",
    "Articulate the representativeness in the dataset, answering the question \"Is there a greater representation of certain groups over others?\""
   ]
  },
  {
   "cell_type": "code",
   "execution_count": 10,
   "metadata": {
    "graffitiCellId": "id_3hsgmdc"
   },
   "outputs": [],
   "source": [
    "#FILL IN|\n",
    "#Generate visualizations to understand the representativeness of the dataset"
   ]
  },
  {
   "cell_type": "code",
   "execution_count": 11,
   "metadata": {
    "graffitiCellId": "id_mosjhab"
   },
   "outputs": [
    {
     "data": {
      "text/plain": [
       "<AxesSubplot:xlabel='Age'>"
      ]
     },
     "execution_count": 11,
     "metadata": {},
     "output_type": "execute_result"
    },
    {
     "data": {
      "image/png": "[encoded data removed]",
      "text/plain": [
       "<Figure size 432x288 with 1 Axes>"
      ]
     },
     "metadata": {
      "needs_background": "light"
     },
     "output_type": "display_data"
    }
   ],
   "source": [
    "act_rec_dataset.groupby(['Age'])['Age'].count().plot(kind='bar')"
   ]
  },
  {
   "cell_type": "code",
   "execution_count": 12,
   "metadata": {
    "graffitiCellId": "id_fn9rn92"
   },
   "outputs": [
    {
     "data": {
      "text/plain": [
       "<AxesSubplot:xlabel='Gender'>"
      ]
     },
     "execution_count": 12,
     "metadata": {},
     "output_type": "execute_result"
    },
    {
     "data": {
      "image/png": "[encoded data removed]",
      "text/plain": [
       "<Figure size 432x288 with 1 Axes>"
      ]
     },
     "metadata": {
      "needs_background": "light"
     },
     "output_type": "display_data"
    }
   ],
   "source": [
    "act_rec_dataset.groupby(['Gender'])['Gender'].count().plot(kind='bar')"
   ]
  },
  {
   "cell_type": "code",
   "execution_count": 13,
   "metadata": {
    "graffitiCellId": "id_fzdi8gr"
   },
   "outputs": [
    {
     "data": {
      "text/plain": [
       "<AxesSubplot:xlabel='Budget (in dollars)'>"
      ]
     },
     "execution_count": 13,
     "metadata": {},
     "output_type": "execute_result"
    },
    {
     "data": {
      "image/png": "[encoded data removed]",
      "text/plain": [
       "<Figure size 432x288 with 1 Axes>"
      ]
     },
     "metadata": {
      "needs_background": "light"
     },
     "output_type": "display_data"
    }
   ],
   "source": [
    "act_rec_dataset.groupby(['Budget (in dollars)'])['Budget (in dollars)'].count().plot(kind='bar')"
   ]
  },
  {
   "cell_type": "code",
   "execution_count": 14,
   "metadata": {
    "graffitiCellId": "id_619lvgy"
   },
   "outputs": [
    {
     "data": {
      "text/plain": [
       "<AxesSubplot:xlabel='Education_Level'>"
      ]
     },
     "execution_count": 14,
     "metadata": {},
     "output_type": "execute_result"
    },
    {
     "data": {
      "image/png": "[encoded data removed]",
      "text/plain": [
       "<Figure size 432x288 with 1 Axes>"
      ]
     },
     "metadata": {
      "needs_background": "light"
     },
     "output_type": "display_data"
    }
   ],
   "source": [
    "act_rec_dataset.groupby(['Education_Level'])['Education_Level'].count().plot(kind='bar')"
   ]
  },
  {
   "cell_type": "code",
   "execution_count": 15,
   "metadata": {
    "graffitiCellId": "id_mjijcmi"
   },
   "outputs": [
    {
     "data": {
      "text/plain": [
       "<AxesSubplot:xlabel='Age'>"
      ]
     },
     "execution_count": 15,
     "metadata": {},
     "output_type": "execute_result"
    },
    {
     "data": {
      "image/png": "[encoded data removed]",
      "text/plain": [
       "<Figure size 432x288 with 1 Axes>"
      ]
     },
     "metadata": {
      "needs_background": "light"
     },
     "output_type": "display_data"
    }
   ],
   "source": [
    "act_rec_dataset.groupby(['Age', 'Budget (in dollars)'])['Age'].count().unstack().plot(kind='bar', stacked=True)"
   ]
  },
  {
   "cell_type": "code",
   "execution_count": 16,
   "metadata": {
    "graffitiCellId": "id_kt0tyli"
   },
   "outputs": [
    {
     "data": {
      "text/plain": [
       "<AxesSubplot:xlabel='Gender'>"
      ]
     },
     "execution_count": 16,
     "metadata": {},
     "output_type": "execute_result"
    },
    {
     "data": {
      "image/png": "[encoded data removed]",
      "text/plain": [
       "<Figure size 432x288 with 1 Axes>"
      ]
     },
     "metadata": {
      "needs_background": "light"
     },
     "output_type": "display_data"
    }
   ],
   "source": [
    "act_rec_dataset.groupby(['Gender', 'Budget (in dollars)'])['Gender'].count().unstack().plot(kind='bar', stacked=True)"
   ]
  },
  {
   "cell_type": "code",
   "execution_count": 17,
   "metadata": {
    "graffitiCellId": "id_3vui5gb"
   },
   "outputs": [
    {
     "data": {
      "text/plain": [
       "<AxesSubplot:xlabel='Gender'>"
      ]
     },
     "execution_count": 17,
     "metadata": {},
     "output_type": "execute_result"
    },
    {
     "data": {
      "image/png": "[encoded data removed]",
      "text/plain": [
       "<Figure size 432x288 with 1 Axes>"
      ]
     },
     "metadata": {
      "needs_background": "light"
     },
     "output_type": "display_data"
    }
   ],
   "source": [
    "act_rec_dataset.groupby(['Gender', 'Education_Level'])['Gender'].count().unstack().plot(kind='bar', stacked=True)"
   ]
  },
  {
   "cell_type": "code",
   "execution_count": 18,
   "metadata": {
    "graffitiCellId": "id_3evsenj"
   },
   "outputs": [
    {
     "data": {
      "text/plain": [
       "<AxesSubplot:xlabel='Education_Level'>"
      ]
     },
     "execution_count": 18,
     "metadata": {},
     "output_type": "execute_result"
    },
    {
     "data": {
      "image/png": "[encoded data removed]",
      "text/plain": [
       "<Figure size 432x288 with 1 Axes>"
      ]
     },
     "metadata": {
      "needs_background": "light"
     },
     "output_type": "display_data"
    }
   ],
   "source": [
    "act_rec_dataset.groupby(['Education_Level', 'Budget (in dollars)'])['Education_Level'].count().unstack().plot(kind='bar', stacked=True)"
   ]
  },
  {
   "cell_type": "code",
   "execution_count": 19,
   "metadata": {
    "graffitiCellId": "id_vp91qjy"
   },
   "outputs": [
    {
     "data": {
      "text/plain": [
       "<AxesSubplot:xlabel='Age'>"
      ]
     },
     "execution_count": 19,
     "metadata": {},
     "output_type": "execute_result"
    },
    {
     "data": {
      "image/png": "[encoded data removed]",
      "text/plain": [
       "<Figure size 432x288 with 1 Axes>"
      ]
     },
     "metadata": {
      "needs_background": "light"
     },
     "output_type": "display_data"
    }
   ],
   "source": [
    "act_rec_dataset.groupby(['Age', 'Education_Level'])['Age'].count().unstack().plot(kind='bar', stacked=True)"
   ]
  },
  {
   "cell_type": "markdown",
   "metadata": {
    "graffitiCellId": "id_oyxiefo"
   },
   "source": [
    "Question: Is there a greater representation of certain groups over others?\n",
    "\n",
    "**Your answer:** We see that for the Age variable, we have significantly more records regarding young adults, followed by those about adults. Regarding the Gender variable, suprisingly, it is equally represented for all of its classes. As for the Education feature, we see that most of the people represented in the dataset have acquired either a BSc or a MSc degree. We also need to keep in mind, that, in order to obtain a MSc degree, a BSc degree is a prerequisite. Therefore, we understand that most of the subjects have at least obtained a BSc diploma (higher/advanced education level). We have to note here that the rows containing missing values in either the Gender or Education_Level column have been removed and the column With children? has been dropped due to the high number of missing values."
   ]
  },
  {
   "cell_type": "markdown",
   "metadata": {
    "graffitiCellId": "id_u8pj1op"
   },
   "source": [
    "Now that we've visualized the individual features of the dataframe and understood the dataset better, let's one-hot encode the dataframe."
   ]
  },
  {
   "cell_type": "code",
   "execution_count": 20,
   "metadata": {
    "graffitiCellId": "id_hz4ulc4"
   },
   "outputs": [],
   "source": [
    "#FILL IN: \n",
    "#The variable act_rec_dataset should contain the one-hot encoded variables\n",
    "#categorical_dataset = pd.get_dummies(act_rec_dataset.loc[:, act_rec_dataset.columns != 'Budget (in dollars)'])\n",
    "categorical_dataset = pd.get_dummies(act_rec_dataset)"
   ]
  },
  {
   "cell_type": "markdown",
   "metadata": {
    "graffitiCellId": "id_lwopyrj"
   },
   "source": [
    "Visualize the interactions between the categorical variables. Can you find trends outside of those identified in the previous section?\n",
    "\n",
    "**Hint**: Use a multicollinearity matrix."
   ]
  },
  {
   "cell_type": "code",
   "execution_count": 21,
   "metadata": {
    "graffitiCellId": "id_pqhh6ve"
   },
   "outputs": [
    {
     "data": {
      "text/html": [
       "<div>\n",
       "<style scoped>\n",
       "    .dataframe tbody tr th:only-of-type {\n",
       "        vertical-align: middle;\n",
       "    }\n",
       "\n",
       "    .dataframe tbody tr th {\n",
       "        vertical-align: top;\n",
       "    }\n",
       "\n",
       "    .dataframe thead th {\n",
       "        text-align: right;\n",
       "    }\n",
       "</style>\n",
       "<table border=\"1\" class=\"dataframe\">\n",
       "  <thead>\n",
       "    <tr style=\"text-align: right;\">\n",
       "      <th></th>\n",
       "      <th>Budget (in dollars)_high_budget</th>\n",
       "      <th>Budget (in dollars)_low_budget</th>\n",
       "      <th>Age_adult</th>\n",
       "      <th>Age_elder</th>\n",
       "      <th>Age_middle_aged</th>\n",
       "      <th>Age_young_adult</th>\n",
       "      <th>Gender_Female</th>\n",
       "      <th>Gender_Male</th>\n",
       "      <th>Gender_Non-binary</th>\n",
       "      <th>Gender_Other</th>\n",
       "      <th>...</th>\n",
       "      <th>Education_Level_Other</th>\n",
       "      <th>Recommended_Activity_Explore: Go sightseeing</th>\n",
       "      <th>Recommended_Activity_Explore: Hike</th>\n",
       "      <th>Recommended_Activity_Explore: Visit a park</th>\n",
       "      <th>Recommended_Activity_Learn: Visit a library</th>\n",
       "      <th>Recommended_Activity_Play: Go shopping</th>\n",
       "      <th>Recommended_Activity_Play: Visit a movie theater</th>\n",
       "      <th>Recommended_Activity_Stay in: Color</th>\n",
       "      <th>Recommended_Activity_Stay in: Play a game</th>\n",
       "      <th>Recommended_Activity_Stay in: Watch calming TV</th>\n",
       "    </tr>\n",
       "  </thead>\n",
       "  <tbody>\n",
       "    <tr>\n",
       "      <th>Budget (in dollars)_high_budget</th>\n",
       "      <td>1.000000</td>\n",
       "      <td>-1.000000</td>\n",
       "      <td>0.673073</td>\n",
       "      <td>0.233620</td>\n",
       "      <td>0.345709</td>\n",
       "      <td>-0.967323</td>\n",
       "      <td>-0.000023</td>\n",
       "      <td>-0.000489</td>\n",
       "      <td>0.005014</td>\n",
       "      <td>-0.000965</td>\n",
       "      <td>...</td>\n",
       "      <td>-0.437541</td>\n",
       "      <td>0.241140</td>\n",
       "      <td>0.238393</td>\n",
       "      <td>0.237115</td>\n",
       "      <td>0.239493</td>\n",
       "      <td>-0.408592</td>\n",
       "      <td>-0.410743</td>\n",
       "      <td>0.219856</td>\n",
       "      <td>0.217523</td>\n",
       "      <td>0.221938</td>\n",
       "    </tr>\n",
       "    <tr>\n",
       "      <th>Budget (in dollars)_low_budget</th>\n",
       "      <td>-1.000000</td>\n",
       "      <td>1.000000</td>\n",
       "      <td>-0.673073</td>\n",
       "      <td>-0.233620</td>\n",
       "      <td>-0.345709</td>\n",
       "      <td>0.967323</td>\n",
       "      <td>0.000023</td>\n",
       "      <td>0.000489</td>\n",
       "      <td>-0.005014</td>\n",
       "      <td>0.000965</td>\n",
       "      <td>...</td>\n",
       "      <td>0.437541</td>\n",
       "      <td>-0.241140</td>\n",
       "      <td>-0.238393</td>\n",
       "      <td>-0.237115</td>\n",
       "      <td>-0.239493</td>\n",
       "      <td>0.408592</td>\n",
       "      <td>0.410743</td>\n",
       "      <td>-0.219856</td>\n",
       "      <td>-0.217523</td>\n",
       "      <td>-0.221938</td>\n",
       "    </tr>\n",
       "    <tr>\n",
       "      <th>Age_adult</th>\n",
       "      <td>0.673073</td>\n",
       "      <td>-0.673073</td>\n",
       "      <td>1.000000</td>\n",
       "      <td>-0.175160</td>\n",
       "      <td>-0.259845</td>\n",
       "      <td>-0.696498</td>\n",
       "      <td>-0.001805</td>\n",
       "      <td>-0.000937</td>\n",
       "      <td>0.003589</td>\n",
       "      <td>-0.000259</td>\n",
       "      <td>...</td>\n",
       "      <td>-0.293231</td>\n",
       "      <td>0.166094</td>\n",
       "      <td>0.163127</td>\n",
       "      <td>0.163038</td>\n",
       "      <td>0.164533</td>\n",
       "      <td>-0.297522</td>\n",
       "      <td>-0.299104</td>\n",
       "      <td>0.172050</td>\n",
       "      <td>0.171558</td>\n",
       "      <td>0.174557</td>\n",
       "    </tr>\n",
       "    <tr>\n",
       "      <th>Age_elder</th>\n",
       "      <td>0.233620</td>\n",
       "      <td>-0.233620</td>\n",
       "      <td>-0.175160</td>\n",
       "      <td>1.000000</td>\n",
       "      <td>-0.089780</td>\n",
       "      <td>-0.240650</td>\n",
       "      <td>0.000301</td>\n",
       "      <td>0.000262</td>\n",
       "      <td>0.002208</td>\n",
       "      <td>-0.000524</td>\n",
       "      <td>...</td>\n",
       "      <td>-0.102540</td>\n",
       "      <td>0.056719</td>\n",
       "      <td>0.059417</td>\n",
       "      <td>0.057815</td>\n",
       "      <td>0.059034</td>\n",
       "      <td>-0.100634</td>\n",
       "      <td>-0.103067</td>\n",
       "      <td>0.056782</td>\n",
       "      <td>0.052509</td>\n",
       "      <td>0.059205</td>\n",
       "    </tr>\n",
       "    <tr>\n",
       "      <th>Age_middle_aged</th>\n",
       "      <td>0.345709</td>\n",
       "      <td>-0.345709</td>\n",
       "      <td>-0.259845</td>\n",
       "      <td>-0.089780</td>\n",
       "      <td>1.000000</td>\n",
       "      <td>-0.356998</td>\n",
       "      <td>0.000890</td>\n",
       "      <td>0.000060</td>\n",
       "      <td>0.001549</td>\n",
       "      <td>0.000833</td>\n",
       "      <td>...</td>\n",
       "      <td>-0.151073</td>\n",
       "      <td>0.086003</td>\n",
       "      <td>0.085514</td>\n",
       "      <td>0.084261</td>\n",
       "      <td>0.084383</td>\n",
       "      <td>-0.155006</td>\n",
       "      <td>-0.153665</td>\n",
       "      <td>0.089667</td>\n",
       "      <td>0.093721</td>\n",
       "      <td>0.084339</td>\n",
       "    </tr>\n",
       "    <tr>\n",
       "      <th>Age_young_adult</th>\n",
       "      <td>-0.967323</td>\n",
       "      <td>0.967323</td>\n",
       "      <td>-0.696498</td>\n",
       "      <td>-0.240650</td>\n",
       "      <td>-0.356998</td>\n",
       "      <td>1.000000</td>\n",
       "      <td>0.000993</td>\n",
       "      <td>0.000726</td>\n",
       "      <td>-0.005415</td>\n",
       "      <td>-0.000048</td>\n",
       "      <td>...</td>\n",
       "      <td>0.422074</td>\n",
       "      <td>-0.238720</td>\n",
       "      <td>-0.236852</td>\n",
       "      <td>-0.235218</td>\n",
       "      <td>-0.237276</td>\n",
       "      <td>0.427779</td>\n",
       "      <td>0.429540</td>\n",
       "      <td>-0.246739</td>\n",
       "      <td>-0.246904</td>\n",
       "      <td>-0.246801</td>\n",
       "    </tr>\n",
       "    <tr>\n",
       "      <th>Gender_Female</th>\n",
       "      <td>-0.000023</td>\n",
       "      <td>0.000023</td>\n",
       "      <td>-0.001805</td>\n",
       "      <td>0.000301</td>\n",
       "      <td>0.000890</td>\n",
       "      <td>0.000993</td>\n",
       "      <td>1.000000</td>\n",
       "      <td>-0.250398</td>\n",
       "      <td>-0.249466</td>\n",
       "      <td>-0.249861</td>\n",
       "      <td>...</td>\n",
       "      <td>-0.000446</td>\n",
       "      <td>-0.001585</td>\n",
       "      <td>0.004098</td>\n",
       "      <td>-0.002624</td>\n",
       "      <td>-0.001930</td>\n",
       "      <td>0.000041</td>\n",
       "      <td>0.000373</td>\n",
       "      <td>0.002433</td>\n",
       "      <td>-0.002603</td>\n",
       "      <td>0.001339</td>\n",
       "    </tr>\n",
       "    <tr>\n",
       "      <th>Gender_Male</th>\n",
       "      <td>-0.000489</td>\n",
       "      <td>0.000489</td>\n",
       "      <td>-0.000937</td>\n",
       "      <td>0.000262</td>\n",
       "      <td>0.000060</td>\n",
       "      <td>0.000726</td>\n",
       "      <td>-0.250398</td>\n",
       "      <td>1.000000</td>\n",
       "      <td>-0.249835</td>\n",
       "      <td>-0.250230</td>\n",
       "      <td>...</td>\n",
       "      <td>0.000240</td>\n",
       "      <td>-0.001364</td>\n",
       "      <td>-0.000991</td>\n",
       "      <td>-0.002391</td>\n",
       "      <td>0.004872</td>\n",
       "      <td>0.000852</td>\n",
       "      <td>-0.000628</td>\n",
       "      <td>0.000656</td>\n",
       "      <td>-0.000241</td>\n",
       "      <td>-0.000979</td>\n",
       "    </tr>\n",
       "    <tr>\n",
       "      <th>Gender_Non-binary</th>\n",
       "      <td>0.005014</td>\n",
       "      <td>-0.005014</td>\n",
       "      <td>0.003589</td>\n",
       "      <td>0.002208</td>\n",
       "      <td>0.001549</td>\n",
       "      <td>-0.005415</td>\n",
       "      <td>-0.249466</td>\n",
       "      <td>-0.249835</td>\n",
       "      <td>1.000000</td>\n",
       "      <td>-0.249299</td>\n",
       "      <td>...</td>\n",
       "      <td>-0.002792</td>\n",
       "      <td>0.004342</td>\n",
       "      <td>0.000599</td>\n",
       "      <td>0.002698</td>\n",
       "      <td>-0.000422</td>\n",
       "      <td>-0.001414</td>\n",
       "      <td>-0.002179</td>\n",
       "      <td>-0.002933</td>\n",
       "      <td>0.002535</td>\n",
       "      <td>0.000364</td>\n",
       "    </tr>\n",
       "    <tr>\n",
       "      <th>Gender_Other</th>\n",
       "      <td>-0.000965</td>\n",
       "      <td>0.000965</td>\n",
       "      <td>-0.000259</td>\n",
       "      <td>-0.000524</td>\n",
       "      <td>0.000833</td>\n",
       "      <td>-0.000048</td>\n",
       "      <td>-0.249861</td>\n",
       "      <td>-0.250230</td>\n",
       "      <td>-0.249299</td>\n",
       "      <td>1.000000</td>\n",
       "      <td>...</td>\n",
       "      <td>0.002889</td>\n",
       "      <td>-0.000185</td>\n",
       "      <td>-0.002928</td>\n",
       "      <td>0.001878</td>\n",
       "      <td>0.001773</td>\n",
       "      <td>-0.002008</td>\n",
       "      <td>0.002205</td>\n",
       "      <td>-0.000833</td>\n",
       "      <td>0.000735</td>\n",
       "      <td>-0.000793</td>\n",
       "    </tr>\n",
       "    <tr>\n",
       "      <th>Gender_Transgender</th>\n",
       "      <td>-0.003529</td>\n",
       "      <td>0.003529</td>\n",
       "      <td>-0.000582</td>\n",
       "      <td>-0.002243</td>\n",
       "      <td>-0.003328</td>\n",
       "      <td>0.003735</td>\n",
       "      <td>-0.250318</td>\n",
       "      <td>-0.250687</td>\n",
       "      <td>-0.249754</td>\n",
       "      <td>-0.250150</td>\n",
       "      <td>...</td>\n",
       "      <td>0.000106</td>\n",
       "      <td>-0.001200</td>\n",
       "      <td>-0.000776</td>\n",
       "      <td>0.000445</td>\n",
       "      <td>-0.004294</td>\n",
       "      <td>0.002525</td>\n",
       "      <td>0.000228</td>\n",
       "      <td>0.000672</td>\n",
       "      <td>-0.000422</td>\n",
       "      <td>0.000071</td>\n",
       "    </tr>\n",
       "    <tr>\n",
       "      <th>Education_Level_Bachelor’s Degree</th>\n",
       "      <td>0.570065</td>\n",
       "      <td>-0.570065</td>\n",
       "      <td>0.386406</td>\n",
       "      <td>0.129069</td>\n",
       "      <td>0.195990</td>\n",
       "      <td>-0.551392</td>\n",
       "      <td>0.003450</td>\n",
       "      <td>-0.003487</td>\n",
       "      <td>0.003889</td>\n",
       "      <td>-0.003159</td>\n",
       "      <td>...</td>\n",
       "      <td>-0.257696</td>\n",
       "      <td>0.138442</td>\n",
       "      <td>0.140676</td>\n",
       "      <td>0.135867</td>\n",
       "      <td>0.139228</td>\n",
       "      <td>-0.233200</td>\n",
       "      <td>-0.233347</td>\n",
       "      <td>0.121583</td>\n",
       "      <td>0.121652</td>\n",
       "      <td>0.122769</td>\n",
       "    </tr>\n",
       "    <tr>\n",
       "      <th>Education_Level_Did Not Graduate HS</th>\n",
       "      <td>-0.438163</td>\n",
       "      <td>0.438163</td>\n",
       "      <td>-0.295634</td>\n",
       "      <td>-0.102746</td>\n",
       "      <td>-0.152496</td>\n",
       "      <td>0.425358</td>\n",
       "      <td>-0.001900</td>\n",
       "      <td>0.000907</td>\n",
       "      <td>0.000128</td>\n",
       "      <td>0.000996</td>\n",
       "      <td>...</td>\n",
       "      <td>-0.202848</td>\n",
       "      <td>-0.109932</td>\n",
       "      <td>-0.109071</td>\n",
       "      <td>-0.108319</td>\n",
       "      <td>-0.109266</td>\n",
       "      <td>0.184229</td>\n",
       "      <td>0.172209</td>\n",
       "      <td>-0.089298</td>\n",
       "      <td>-0.086599</td>\n",
       "      <td>-0.091016</td>\n",
       "    </tr>\n",
       "    <tr>\n",
       "      <th>Education_Level_High School Grad</th>\n",
       "      <td>-0.438074</td>\n",
       "      <td>0.438074</td>\n",
       "      <td>-0.295451</td>\n",
       "      <td>-0.102335</td>\n",
       "      <td>-0.150047</td>\n",
       "      <td>0.423417</td>\n",
       "      <td>0.001951</td>\n",
       "      <td>0.000077</td>\n",
       "      <td>-0.003983</td>\n",
       "      <td>-0.002488</td>\n",
       "      <td>...</td>\n",
       "      <td>-0.202977</td>\n",
       "      <td>-0.110001</td>\n",
       "      <td>-0.109141</td>\n",
       "      <td>-0.108387</td>\n",
       "      <td>-0.109336</td>\n",
       "      <td>0.172148</td>\n",
       "      <td>0.182100</td>\n",
       "      <td>-0.088012</td>\n",
       "      <td>-0.087156</td>\n",
       "      <td>-0.087257</td>\n",
       "    </tr>\n",
       "    <tr>\n",
       "      <th>Education_Level_Master’s Degree</th>\n",
       "      <td>0.570907</td>\n",
       "      <td>-0.570907</td>\n",
       "      <td>0.381594</td>\n",
       "      <td>0.138087</td>\n",
       "      <td>0.197959</td>\n",
       "      <td>-0.552297</td>\n",
       "      <td>-0.003105</td>\n",
       "      <td>0.002422</td>\n",
       "      <td>0.001885</td>\n",
       "      <td>0.001946</td>\n",
       "      <td>...</td>\n",
       "      <td>-0.258001</td>\n",
       "      <td>0.140229</td>\n",
       "      <td>0.134753</td>\n",
       "      <td>0.138069</td>\n",
       "      <td>0.136343</td>\n",
       "      <td>-0.231548</td>\n",
       "      <td>-0.233660</td>\n",
       "      <td>0.123356</td>\n",
       "      <td>0.120180</td>\n",
       "      <td>0.124541</td>\n",
       "    </tr>\n",
       "    <tr>\n",
       "      <th>Education_Level_Other</th>\n",
       "      <td>-0.437541</td>\n",
       "      <td>0.437541</td>\n",
       "      <td>-0.293231</td>\n",
       "      <td>-0.102540</td>\n",
       "      <td>-0.151073</td>\n",
       "      <td>0.422074</td>\n",
       "      <td>-0.000446</td>\n",
       "      <td>0.000240</td>\n",
       "      <td>-0.002792</td>\n",
       "      <td>0.002889</td>\n",
       "      <td>...</td>\n",
       "      <td>1.000000</td>\n",
       "      <td>-0.100942</td>\n",
       "      <td>-0.098927</td>\n",
       "      <td>-0.098717</td>\n",
       "      <td>-0.098702</td>\n",
       "      <td>0.178763</td>\n",
       "      <td>0.183430</td>\n",
       "      <td>-0.104733</td>\n",
       "      <td>-0.104708</td>\n",
       "      <td>-0.106501</td>\n",
       "    </tr>\n",
       "    <tr>\n",
       "      <th>Recommended_Activity_Explore: Go sightseeing</th>\n",
       "      <td>0.241140</td>\n",
       "      <td>-0.241140</td>\n",
       "      <td>0.166094</td>\n",
       "      <td>0.056719</td>\n",
       "      <td>0.086003</td>\n",
       "      <td>-0.238720</td>\n",
       "      <td>-0.001585</td>\n",
       "      <td>-0.001364</td>\n",
       "      <td>0.004342</td>\n",
       "      <td>-0.000185</td>\n",
       "      <td>...</td>\n",
       "      <td>-0.100942</td>\n",
       "      <td>1.000000</td>\n",
       "      <td>-0.059088</td>\n",
       "      <td>-0.058680</td>\n",
       "      <td>-0.059193</td>\n",
       "      <td>-0.159438</td>\n",
       "      <td>-0.159563</td>\n",
       "      <td>-0.061554</td>\n",
       "      <td>-0.061595</td>\n",
       "      <td>-0.061569</td>\n",
       "    </tr>\n",
       "    <tr>\n",
       "      <th>Recommended_Activity_Explore: Hike</th>\n",
       "      <td>0.238393</td>\n",
       "      <td>-0.238393</td>\n",
       "      <td>0.163127</td>\n",
       "      <td>0.059417</td>\n",
       "      <td>0.085514</td>\n",
       "      <td>-0.236852</td>\n",
       "      <td>0.004098</td>\n",
       "      <td>-0.000991</td>\n",
       "      <td>0.000599</td>\n",
       "      <td>-0.002928</td>\n",
       "      <td>...</td>\n",
       "      <td>-0.098927</td>\n",
       "      <td>-0.059088</td>\n",
       "      <td>1.000000</td>\n",
       "      <td>-0.058221</td>\n",
       "      <td>-0.058730</td>\n",
       "      <td>-0.158191</td>\n",
       "      <td>-0.158314</td>\n",
       "      <td>-0.061072</td>\n",
       "      <td>-0.061113</td>\n",
       "      <td>-0.061088</td>\n",
       "    </tr>\n",
       "    <tr>\n",
       "      <th>Recommended_Activity_Explore: Visit a park</th>\n",
       "      <td>0.237115</td>\n",
       "      <td>-0.237115</td>\n",
       "      <td>0.163038</td>\n",
       "      <td>0.057815</td>\n",
       "      <td>0.084261</td>\n",
       "      <td>-0.235218</td>\n",
       "      <td>-0.002624</td>\n",
       "      <td>-0.002391</td>\n",
       "      <td>0.002698</td>\n",
       "      <td>0.001878</td>\n",
       "      <td>...</td>\n",
       "      <td>-0.098717</td>\n",
       "      <td>-0.058680</td>\n",
       "      <td>-0.058221</td>\n",
       "      <td>1.000000</td>\n",
       "      <td>-0.058325</td>\n",
       "      <td>-0.157099</td>\n",
       "      <td>-0.157221</td>\n",
       "      <td>-0.060651</td>\n",
       "      <td>-0.060691</td>\n",
       "      <td>-0.060666</td>\n",
       "    </tr>\n",
       "    <tr>\n",
       "      <th>Recommended_Activity_Learn: Visit a library</th>\n",
       "      <td>0.239493</td>\n",
       "      <td>-0.239493</td>\n",
       "      <td>0.164533</td>\n",
       "      <td>0.059034</td>\n",
       "      <td>0.084383</td>\n",
       "      <td>-0.237276</td>\n",
       "      <td>-0.001930</td>\n",
       "      <td>0.004872</td>\n",
       "      <td>-0.000422</td>\n",
       "      <td>0.001773</td>\n",
       "      <td>...</td>\n",
       "      <td>-0.098702</td>\n",
       "      <td>-0.059193</td>\n",
       "      <td>-0.058730</td>\n",
       "      <td>-0.058325</td>\n",
       "      <td>1.000000</td>\n",
       "      <td>-0.158473</td>\n",
       "      <td>-0.158597</td>\n",
       "      <td>-0.061182</td>\n",
       "      <td>-0.061222</td>\n",
       "      <td>-0.061197</td>\n",
       "    </tr>\n",
       "    <tr>\n",
       "      <th>Recommended_Activity_Play: Go shopping</th>\n",
       "      <td>-0.408592</td>\n",
       "      <td>0.408592</td>\n",
       "      <td>-0.297522</td>\n",
       "      <td>-0.100634</td>\n",
       "      <td>-0.155006</td>\n",
       "      <td>0.427779</td>\n",
       "      <td>0.000041</td>\n",
       "      <td>0.000852</td>\n",
       "      <td>-0.001414</td>\n",
       "      <td>-0.002008</td>\n",
       "      <td>...</td>\n",
       "      <td>0.178763</td>\n",
       "      <td>-0.159438</td>\n",
       "      <td>-0.158191</td>\n",
       "      <td>-0.157099</td>\n",
       "      <td>-0.158473</td>\n",
       "      <td>1.000000</td>\n",
       "      <td>-0.427184</td>\n",
       "      <td>-0.164794</td>\n",
       "      <td>-0.164904</td>\n",
       "      <td>-0.164835</td>\n",
       "    </tr>\n",
       "    <tr>\n",
       "      <th>Recommended_Activity_Play: Visit a movie theater</th>\n",
       "      <td>-0.410743</td>\n",
       "      <td>0.410743</td>\n",
       "      <td>-0.299104</td>\n",
       "      <td>-0.103067</td>\n",
       "      <td>-0.153665</td>\n",
       "      <td>0.429540</td>\n",
       "      <td>0.000373</td>\n",
       "      <td>-0.000628</td>\n",
       "      <td>-0.002179</td>\n",
       "      <td>0.002205</td>\n",
       "      <td>...</td>\n",
       "      <td>0.183430</td>\n",
       "      <td>-0.159563</td>\n",
       "      <td>-0.158314</td>\n",
       "      <td>-0.157221</td>\n",
       "      <td>-0.158597</td>\n",
       "      <td>-0.427184</td>\n",
       "      <td>1.000000</td>\n",
       "      <td>-0.164923</td>\n",
       "      <td>-0.165032</td>\n",
       "      <td>-0.164964</td>\n",
       "    </tr>\n",
       "    <tr>\n",
       "      <th>Recommended_Activity_Stay in: Color</th>\n",
       "      <td>0.219856</td>\n",
       "      <td>-0.219856</td>\n",
       "      <td>0.172050</td>\n",
       "      <td>0.056782</td>\n",
       "      <td>0.089667</td>\n",
       "      <td>-0.246739</td>\n",
       "      <td>0.002433</td>\n",
       "      <td>0.000656</td>\n",
       "      <td>-0.002933</td>\n",
       "      <td>-0.000833</td>\n",
       "      <td>...</td>\n",
       "      <td>-0.104733</td>\n",
       "      <td>-0.061554</td>\n",
       "      <td>-0.061072</td>\n",
       "      <td>-0.060651</td>\n",
       "      <td>-0.061182</td>\n",
       "      <td>-0.164794</td>\n",
       "      <td>-0.164923</td>\n",
       "      <td>1.000000</td>\n",
       "      <td>-0.063664</td>\n",
       "      <td>-0.063638</td>\n",
       "    </tr>\n",
       "    <tr>\n",
       "      <th>Recommended_Activity_Stay in: Play a game</th>\n",
       "      <td>0.217523</td>\n",
       "      <td>-0.217523</td>\n",
       "      <td>0.171558</td>\n",
       "      <td>0.052509</td>\n",
       "      <td>0.093721</td>\n",
       "      <td>-0.246904</td>\n",
       "      <td>-0.002603</td>\n",
       "      <td>-0.000241</td>\n",
       "      <td>0.002535</td>\n",
       "      <td>0.000735</td>\n",
       "      <td>...</td>\n",
       "      <td>-0.104708</td>\n",
       "      <td>-0.061595</td>\n",
       "      <td>-0.061113</td>\n",
       "      <td>-0.060691</td>\n",
       "      <td>-0.061222</td>\n",
       "      <td>-0.164904</td>\n",
       "      <td>-0.165032</td>\n",
       "      <td>-0.063664</td>\n",
       "      <td>1.000000</td>\n",
       "      <td>-0.063680</td>\n",
       "    </tr>\n",
       "    <tr>\n",
       "      <th>Recommended_Activity_Stay in: Watch calming TV</th>\n",
       "      <td>0.221938</td>\n",
       "      <td>-0.221938</td>\n",
       "      <td>0.174557</td>\n",
       "      <td>0.059205</td>\n",
       "      <td>0.084339</td>\n",
       "      <td>-0.246801</td>\n",
       "      <td>0.001339</td>\n",
       "      <td>-0.000979</td>\n",
       "      <td>0.000364</td>\n",
       "      <td>-0.000793</td>\n",
       "      <td>...</td>\n",
       "      <td>-0.106501</td>\n",
       "      <td>-0.061569</td>\n",
       "      <td>-0.061088</td>\n",
       "      <td>-0.060666</td>\n",
       "      <td>-0.061197</td>\n",
       "      <td>-0.164835</td>\n",
       "      <td>-0.164964</td>\n",
       "      <td>-0.063638</td>\n",
       "      <td>-0.063680</td>\n",
       "      <td>1.000000</td>\n",
       "    </tr>\n",
       "  </tbody>\n",
       "</table>\n",
       "<p>25 rows × 25 columns</p>\n",
       "</div>"
      ],
      "text/plain": [
       "                                                  Budget (in dollars)_high_budget  \\\n",
       "Budget (in dollars)_high_budget                                          1.000000   \n",
       "Budget (in dollars)_low_budget                                          -1.000000   \n",
       "Age_adult                                                                0.673073   \n",
       "Age_elder                                                                0.233620   \n",
       "Age_middle_aged                                                          0.345709   \n",
       "Age_young_adult                                                         -0.967323   \n",
       "Gender_Female                                                           -0.000023   \n",
       "Gender_Male                                                             -0.000489   \n",
       "Gender_Non-binary                                                        0.005014   \n",
       "Gender_Other                                                            -0.000965   \n",
       "Gender_Transgender                                                      -0.003529   \n",
       "Education_Level_Bachelor’s Degree                                        0.570065   \n",
       "Education_Level_Did Not Graduate HS                                     -0.438163   \n",
       "Education_Level_High School Grad                                        -0.438074   \n",
       "Education_Level_Master’s Degree                                          0.570907   \n",
       "Education_Level_Other                                                   -0.437541   \n",
       "Recommended_Activity_Explore: Go sightseeing                             0.241140   \n",
       "Recommended_Activity_Explore: Hike                                       0.238393   \n",
       "Recommended_Activity_Explore: Visit a park                               0.237115   \n",
       "Recommended_Activity_Learn: Visit a library                              0.239493   \n",
       "Recommended_Activity_Play: Go shopping                                  -0.408592   \n",
       "Recommended_Activity_Play: Visit a movie theater                        -0.410743   \n",
       "Recommended_Activity_Stay in: Color                                      0.219856   \n",
       "Recommended_Activity_Stay in: Play a game                                0.217523   \n",
       "Recommended_Activity_Stay in: Watch calming TV                           0.221938   \n",
       "\n",
       "                                                  Budget (in dollars)_low_budget  \\\n",
       "Budget (in dollars)_high_budget                                        -1.000000   \n",
       "Budget (in dollars)_low_budget                                          1.000000   \n",
       "Age_adult                                                              -0.673073   \n",
       "Age_elder                                                              -0.233620   \n",
       "Age_middle_aged                                                        -0.345709   \n",
       "Age_young_adult                                                         0.967323   \n",
       "Gender_Female                                                           0.000023   \n",
       "Gender_Male                                                             0.000489   \n",
       "Gender_Non-binary                                                      -0.005014   \n",
       "Gender_Other                                                            0.000965   \n",
       "Gender_Transgender                                                      0.003529   \n",
       "Education_Level_Bachelor’s Degree                                      -0.570065   \n",
       "Education_Level_Did Not Graduate HS                                     0.438163   \n",
       "Education_Level_High School Grad                                        0.438074   \n",
       "Education_Level_Master’s Degree                                        -0.570907   \n",
       "Education_Level_Other                                                   0.437541   \n",
       "Recommended_Activity_Explore: Go sightseeing                           -0.241140   \n",
       "Recommended_Activity_Explore: Hike                                     -0.238393   \n",
       "Recommended_Activity_Explore: Visit a park                             -0.237115   \n",
       "Recommended_Activity_Learn: Visit a library                            -0.239493   \n",
       "Recommended_Activity_Play: Go shopping                                  0.408592   \n",
       "Recommended_Activity_Play: Visit a movie theater                        0.410743   \n",
       "Recommended_Activity_Stay in: Color                                    -0.219856   \n",
       "Recommended_Activity_Stay in: Play a game                              -0.217523   \n",
       "Recommended_Activity_Stay in: Watch calming TV                         -0.221938   \n",
       "\n",
       "                                                  Age_adult  Age_elder  \\\n",
       "Budget (in dollars)_high_budget                    0.673073   0.233620   \n",
       "Budget (in dollars)_low_budget                    -0.673073  -0.233620   \n",
       "Age_adult                                          1.000000  -0.175160   \n",
       "Age_elder                                         -0.175160   1.000000   \n",
       "Age_middle_aged                                   -0.259845  -0.089780   \n",
       "Age_young_adult                                   -0.696498  -0.240650   \n",
       "Gender_Female                                     -0.001805   0.000301   \n",
       "Gender_Male                                       -0.000937   0.000262   \n",
       "Gender_Non-binary                                  0.003589   0.002208   \n",
       "Gender_Other                                      -0.000259  -0.000524   \n",
       "Gender_Transgender                                -0.000582  -0.002243   \n",
       "Education_Level_Bachelor’s Degree                  0.386406   0.129069   \n",
       "Education_Level_Did Not Graduate HS               -0.295634  -0.102746   \n",
       "Education_Level_High School Grad                  -0.295451  -0.102335   \n",
       "Education_Level_Master’s Degree                    0.381594   0.138087   \n",
       "Education_Level_Other                             -0.293231  -0.102540   \n",
       "Recommended_Activity_Explore: Go sightseeing       0.166094   0.056719   \n",
       "Recommended_Activity_Explore: Hike                 0.163127   0.059417   \n",
       "Recommended_Activity_Explore: Visit a park         0.163038   0.057815   \n",
       "Recommended_Activity_Learn: Visit a library        0.164533   0.059034   \n",
       "Recommended_Activity_Play: Go shopping            -0.297522  -0.100634   \n",
       "Recommended_Activity_Play: Visit a movie theater  -0.299104  -0.103067   \n",
       "Recommended_Activity_Stay in: Color                0.172050   0.056782   \n",
       "Recommended_Activity_Stay in: Play a game          0.171558   0.052509   \n",
       "Recommended_Activity_Stay in: Watch calming TV     0.174557   0.059205   \n",
       "\n",
       "                                                  Age_middle_aged  \\\n",
       "Budget (in dollars)_high_budget                          0.345709   \n",
       "Budget (in dollars)_low_budget                          -0.345709   \n",
       "Age_adult                                               -0.259845   \n",
       "Age_elder                                               -0.089780   \n",
       "Age_middle_aged                                          1.000000   \n",
       "Age_young_adult                                         -0.356998   \n",
       "Gender_Female                                            0.000890   \n",
       "Gender_Male                                              0.000060   \n",
       "Gender_Non-binary                                        0.001549   \n",
       "Gender_Other                                             0.000833   \n",
       "Gender_Transgender                                      -0.003328   \n",
       "Education_Level_Bachelor’s Degree                        0.195990   \n",
       "Education_Level_Did Not Graduate HS                     -0.152496   \n",
       "Education_Level_High School Grad                        -0.150047   \n",
       "Education_Level_Master’s Degree                          0.197959   \n",
       "Education_Level_Other                                   -0.151073   \n",
       "Recommended_Activity_Explore: Go sightseeing             0.086003   \n",
       "Recommended_Activity_Explore: Hike                       0.085514   \n",
       "Recommended_Activity_Explore: Visit a park               0.084261   \n",
       "Recommended_Activity_Learn: Visit a library              0.084383   \n",
       "Recommended_Activity_Play: Go shopping                  -0.155006   \n",
       "Recommended_Activity_Play: Visit a movie theater        -0.153665   \n",
       "Recommended_Activity_Stay in: Color                      0.089667   \n",
       "Recommended_Activity_Stay in: Play a game                0.093721   \n",
       "Recommended_Activity_Stay in: Watch calming TV           0.084339   \n",
       "\n",
       "                                                  Age_young_adult  \\\n",
       "Budget (in dollars)_high_budget                         -0.967323   \n",
       "Budget (in dollars)_low_budget                           0.967323   \n",
       "Age_adult                                               -0.696498   \n",
       "Age_elder                                               -0.240650   \n",
       "Age_middle_aged                                         -0.356998   \n",
       "Age_young_adult                                          1.000000   \n",
       "Gender_Female                                            0.000993   \n",
       "Gender_Male                                              0.000726   \n",
       "Gender_Non-binary                                       -0.005415   \n",
       "Gender_Other                                            -0.000048   \n",
       "Gender_Transgender                                       0.003735   \n",
       "Education_Level_Bachelor’s Degree                       -0.551392   \n",
       "Education_Level_Did Not Graduate HS                      0.425358   \n",
       "Education_Level_High School Grad                         0.423417   \n",
       "Education_Level_Master’s Degree                         -0.552297   \n",
       "Education_Level_Other                                    0.422074   \n",
       "Recommended_Activity_Explore: Go sightseeing            -0.238720   \n",
       "Recommended_Activity_Explore: Hike                      -0.236852   \n",
       "Recommended_Activity_Explore: Visit a park              -0.235218   \n",
       "Recommended_Activity_Learn: Visit a library             -0.237276   \n",
       "Recommended_Activity_Play: Go shopping                   0.427779   \n",
       "Recommended_Activity_Play: Visit a movie theater         0.429540   \n",
       "Recommended_Activity_Stay in: Color                     -0.246739   \n",
       "Recommended_Activity_Stay in: Play a game               -0.246904   \n",
       "Recommended_Activity_Stay in: Watch calming TV          -0.246801   \n",
       "\n",
       "                                                  Gender_Female  Gender_Male  \\\n",
       "Budget (in dollars)_high_budget                       -0.000023    -0.000489   \n",
       "Budget (in dollars)_low_budget                         0.000023     0.000489   \n",
       "Age_adult                                             -0.001805    -0.000937   \n",
       "Age_elder                                              0.000301     0.000262   \n",
       "Age_middle_aged                                        0.000890     0.000060   \n",
       "Age_young_adult                                        0.000993     0.000726   \n",
       "Gender_Female                                          1.000000    -0.250398   \n",
       "Gender_Male                                           -0.250398     1.000000   \n",
       "Gender_Non-binary                                     -0.249466    -0.249835   \n",
       "Gender_Other                                          -0.249861    -0.250230   \n",
       "Gender_Transgender                                    -0.250318    -0.250687   \n",
       "Education_Level_Bachelor’s Degree                      0.003450    -0.003487   \n",
       "Education_Level_Did Not Graduate HS                   -0.001900     0.000907   \n",
       "Education_Level_High School Grad                       0.001951     0.000077   \n",
       "Education_Level_Master’s Degree                       -0.003105     0.002422   \n",
       "Education_Level_Other                                 -0.000446     0.000240   \n",
       "Recommended_Activity_Explore: Go sightseeing          -0.001585    -0.001364   \n",
       "Recommended_Activity_Explore: Hike                     0.004098    -0.000991   \n",
       "Recommended_Activity_Explore: Visit a park            -0.002624    -0.002391   \n",
       "Recommended_Activity_Learn: Visit a library           -0.001930     0.004872   \n",
       "Recommended_Activity_Play: Go shopping                 0.000041     0.000852   \n",
       "Recommended_Activity_Play: Visit a movie theater       0.000373    -0.000628   \n",
       "Recommended_Activity_Stay in: Color                    0.002433     0.000656   \n",
       "Recommended_Activity_Stay in: Play a game             -0.002603    -0.000241   \n",
       "Recommended_Activity_Stay in: Watch calming TV         0.001339    -0.000979   \n",
       "\n",
       "                                                  Gender_Non-binary  \\\n",
       "Budget (in dollars)_high_budget                            0.005014   \n",
       "Budget (in dollars)_low_budget                            -0.005014   \n",
       "Age_adult                                                  0.003589   \n",
       "Age_elder                                                  0.002208   \n",
       "Age_middle_aged                                            0.001549   \n",
       "Age_young_adult                                           -0.005415   \n",
       "Gender_Female                                             -0.249466   \n",
       "Gender_Male                                               -0.249835   \n",
       "Gender_Non-binary                                          1.000000   \n",
       "Gender_Other                                              -0.249299   \n",
       "Gender_Transgender                                        -0.249754   \n",
       "Education_Level_Bachelor’s Degree                          0.003889   \n",
       "Education_Level_Did Not Graduate HS                        0.000128   \n",
       "Education_Level_High School Grad                          -0.003983   \n",
       "Education_Level_Master’s Degree                            0.001885   \n",
       "Education_Level_Other                                     -0.002792   \n",
       "Recommended_Activity_Explore: Go sightseeing               0.004342   \n",
       "Recommended_Activity_Explore: Hike                         0.000599   \n",
       "Recommended_Activity_Explore: Visit a park                 0.002698   \n",
       "Recommended_Activity_Learn: Visit a library               -0.000422   \n",
       "Recommended_Activity_Play: Go shopping                    -0.001414   \n",
       "Recommended_Activity_Play: Visit a movie theater          -0.002179   \n",
       "Recommended_Activity_Stay in: Color                       -0.002933   \n",
       "Recommended_Activity_Stay in: Play a game                  0.002535   \n",
       "Recommended_Activity_Stay in: Watch calming TV             0.000364   \n",
       "\n",
       "                                                  Gender_Other  ...  \\\n",
       "Budget (in dollars)_high_budget                      -0.000965  ...   \n",
       "Budget (in dollars)_low_budget                        0.000965  ...   \n",
       "Age_adult                                            -0.000259  ...   \n",
       "Age_elder                                            -0.000524  ...   \n",
       "Age_middle_aged                                       0.000833  ...   \n",
       "Age_young_adult                                      -0.000048  ...   \n",
       "Gender_Female                                        -0.249861  ...   \n",
       "Gender_Male                                          -0.250230  ...   \n",
       "Gender_Non-binary                                    -0.249299  ...   \n",
       "Gender_Other                                          1.000000  ...   \n",
       "Gender_Transgender                                   -0.250150  ...   \n",
       "Education_Level_Bachelor’s Degree                    -0.003159  ...   \n",
       "Education_Level_Did Not Graduate HS                   0.000996  ...   \n",
       "Education_Level_High School Grad                     -0.002488  ...   \n",
       "Education_Level_Master’s Degree                       0.001946  ...   \n",
       "Education_Level_Other                                 0.002889  ...   \n",
       "Recommended_Activity_Explore: Go sightseeing         -0.000185  ...   \n",
       "Recommended_Activity_Explore: Hike                   -0.002928  ...   \n",
       "Recommended_Activity_Explore: Visit a park            0.001878  ...   \n",
       "Recommended_Activity_Learn: Visit a library           0.001773  ...   \n",
       "Recommended_Activity_Play: Go shopping               -0.002008  ...   \n",
       "Recommended_Activity_Play: Visit a movie theater      0.002205  ...   \n",
       "Recommended_Activity_Stay in: Color                  -0.000833  ...   \n",
       "Recommended_Activity_Stay in: Play a game             0.000735  ...   \n",
       "Recommended_Activity_Stay in: Watch calming TV       -0.000793  ...   \n",
       "\n",
       "                                                  Education_Level_Other  \\\n",
       "Budget (in dollars)_high_budget                               -0.437541   \n",
       "Budget (in dollars)_low_budget                                 0.437541   \n",
       "Age_adult                                                     -0.293231   \n",
       "Age_elder                                                     -0.102540   \n",
       "Age_middle_aged                                               -0.151073   \n",
       "Age_young_adult                                                0.422074   \n",
       "Gender_Female                                                 -0.000446   \n",
       "Gender_Male                                                    0.000240   \n",
       "Gender_Non-binary                                             -0.002792   \n",
       "Gender_Other                                                   0.002889   \n",
       "Gender_Transgender                                             0.000106   \n",
       "Education_Level_Bachelor’s Degree                             -0.257696   \n",
       "Education_Level_Did Not Graduate HS                           -0.202848   \n",
       "Education_Level_High School Grad                              -0.202977   \n",
       "Education_Level_Master’s Degree                               -0.258001   \n",
       "Education_Level_Other                                          1.000000   \n",
       "Recommended_Activity_Explore: Go sightseeing                  -0.100942   \n",
       "Recommended_Activity_Explore: Hike                            -0.098927   \n",
       "Recommended_Activity_Explore: Visit a park                    -0.098717   \n",
       "Recommended_Activity_Learn: Visit a library                   -0.098702   \n",
       "Recommended_Activity_Play: Go shopping                         0.178763   \n",
       "Recommended_Activity_Play: Visit a movie theater               0.183430   \n",
       "Recommended_Activity_Stay in: Color                           -0.104733   \n",
       "Recommended_Activity_Stay in: Play a game                     -0.104708   \n",
       "Recommended_Activity_Stay in: Watch calming TV                -0.106501   \n",
       "\n",
       "                                                  Recommended_Activity_Explore: Go sightseeing  \\\n",
       "Budget (in dollars)_high_budget                                                       0.241140   \n",
       "Budget (in dollars)_low_budget                                                       -0.241140   \n",
       "Age_adult                                                                             0.166094   \n",
       "Age_elder                                                                             0.056719   \n",
       "Age_middle_aged                                                                       0.086003   \n",
       "Age_young_adult                                                                      -0.238720   \n",
       "Gender_Female                                                                        -0.001585   \n",
       "Gender_Male                                                                          -0.001364   \n",
       "Gender_Non-binary                                                                     0.004342   \n",
       "Gender_Other                                                                         -0.000185   \n",
       "Gender_Transgender                                                                   -0.001200   \n",
       "Education_Level_Bachelor’s Degree                                                     0.138442   \n",
       "Education_Level_Did Not Graduate HS                                                  -0.109932   \n",
       "Education_Level_High School Grad                                                     -0.110001   \n",
       "Education_Level_Master’s Degree                                                       0.140229   \n",
       "Education_Level_Other                                                                -0.100942   \n",
       "Recommended_Activity_Explore: Go sightseeing                                          1.000000   \n",
       "Recommended_Activity_Explore: Hike                                                   -0.059088   \n",
       "Recommended_Activity_Explore: Visit a park                                           -0.058680   \n",
       "Recommended_Activity_Learn: Visit a library                                          -0.059193   \n",
       "Recommended_Activity_Play: Go shopping                                               -0.159438   \n",
       "Recommended_Activity_Play: Visit a movie theater                                     -0.159563   \n",
       "Recommended_Activity_Stay in: Color                                                  -0.061554   \n",
       "Recommended_Activity_Stay in: Play a game                                            -0.061595   \n",
       "Recommended_Activity_Stay in: Watch calming TV                                       -0.061569   \n",
       "\n",
       "                                                  Recommended_Activity_Explore: Hike  \\\n",
       "Budget (in dollars)_high_budget                                             0.238393   \n",
       "Budget (in dollars)_low_budget                                             -0.238393   \n",
       "Age_adult                                                                   0.163127   \n",
       "Age_elder                                                                   0.059417   \n",
       "Age_middle_aged                                                             0.085514   \n",
       "Age_young_adult                                                            -0.236852   \n",
       "Gender_Female                                                               0.004098   \n",
       "Gender_Male                                                                -0.000991   \n",
       "Gender_Non-binary                                                           0.000599   \n",
       "Gender_Other                                                               -0.002928   \n",
       "Gender_Transgender                                                         -0.000776   \n",
       "Education_Level_Bachelor’s Degree                                           0.140676   \n",
       "Education_Level_Did Not Graduate HS                                        -0.109071   \n",
       "Education_Level_High School Grad                                           -0.109141   \n",
       "Education_Level_Master’s Degree                                             0.134753   \n",
       "Education_Level_Other                                                      -0.098927   \n",
       "Recommended_Activity_Explore: Go sightseeing                               -0.059088   \n",
       "Recommended_Activity_Explore: Hike                                          1.000000   \n",
       "Recommended_Activity_Explore: Visit a park                                 -0.058221   \n",
       "Recommended_Activity_Learn: Visit a library                                -0.058730   \n",
       "Recommended_Activity_Play: Go shopping                                     -0.158191   \n",
       "Recommended_Activity_Play: Visit a movie theater                           -0.158314   \n",
       "Recommended_Activity_Stay in: Color                                        -0.061072   \n",
       "Recommended_Activity_Stay in: Play a game                                  -0.061113   \n",
       "Recommended_Activity_Stay in: Watch calming TV                             -0.061088   \n",
       "\n",
       "                                                  Recommended_Activity_Explore: Visit a park  \\\n",
       "Budget (in dollars)_high_budget                                                     0.237115   \n",
       "Budget (in dollars)_low_budget                                                     -0.237115   \n",
       "Age_adult                                                                           0.163038   \n",
       "Age_elder                                                                           0.057815   \n",
       "Age_middle_aged                                                                     0.084261   \n",
       "Age_young_adult                                                                    -0.235218   \n",
       "Gender_Female                                                                      -0.002624   \n",
       "Gender_Male                                                                        -0.002391   \n",
       "Gender_Non-binary                                                                   0.002698   \n",
       "Gender_Other                                                                        0.001878   \n",
       "Gender_Transgender                                                                  0.000445   \n",
       "Education_Level_Bachelor’s Degree                                                   0.135867   \n",
       "Education_Level_Did Not Graduate HS                                                -0.108319   \n",
       "Education_Level_High School Grad                                                   -0.108387   \n",
       "Education_Level_Master’s Degree                                                     0.138069   \n",
       "Education_Level_Other                                                              -0.098717   \n",
       "Recommended_Activity_Explore: Go sightseeing                                       -0.058680   \n",
       "Recommended_Activity_Explore: Hike                                                 -0.058221   \n",
       "Recommended_Activity_Explore: Visit a park                                          1.000000   \n",
       "Recommended_Activity_Learn: Visit a library                                        -0.058325   \n",
       "Recommended_Activity_Play: Go shopping                                             -0.157099   \n",
       "Recommended_Activity_Play: Visit a movie theater                                   -0.157221   \n",
       "Recommended_Activity_Stay in: Color                                                -0.060651   \n",
       "Recommended_Activity_Stay in: Play a game                                          -0.060691   \n",
       "Recommended_Activity_Stay in: Watch calming TV                                     -0.060666   \n",
       "\n",
       "                                                  Recommended_Activity_Learn: Visit a library  \\\n",
       "Budget (in dollars)_high_budget                                                      0.239493   \n",
       "Budget (in dollars)_low_budget                                                      -0.239493   \n",
       "Age_adult                                                                            0.164533   \n",
       "Age_elder                                                                            0.059034   \n",
       "Age_middle_aged                                                                      0.084383   \n",
       "Age_young_adult                                                                     -0.237276   \n",
       "Gender_Female                                                                       -0.001930   \n",
       "Gender_Male                                                                          0.004872   \n",
       "Gender_Non-binary                                                                   -0.000422   \n",
       "Gender_Other                                                                         0.001773   \n",
       "Gender_Transgender                                                                  -0.004294   \n",
       "Education_Level_Bachelor’s Degree                                                    0.139228   \n",
       "Education_Level_Did Not Graduate HS                                                 -0.109266   \n",
       "Education_Level_High School Grad                                                    -0.109336   \n",
       "Education_Level_Master’s Degree                                                      0.136343   \n",
       "Education_Level_Other                                                               -0.098702   \n",
       "Recommended_Activity_Explore: Go sightseeing                                        -0.059193   \n",
       "Recommended_Activity_Explore: Hike                                                  -0.058730   \n",
       "Recommended_Activity_Explore: Visit a park                                          -0.058325   \n",
       "Recommended_Activity_Learn: Visit a library                                          1.000000   \n",
       "Recommended_Activity_Play: Go shopping                                              -0.158473   \n",
       "Recommended_Activity_Play: Visit a movie theater                                    -0.158597   \n",
       "Recommended_Activity_Stay in: Color                                                 -0.061182   \n",
       "Recommended_Activity_Stay in: Play a game                                           -0.061222   \n",
       "Recommended_Activity_Stay in: Watch calming TV                                      -0.061197   \n",
       "\n",
       "                                                  Recommended_Activity_Play: Go shopping  \\\n",
       "Budget (in dollars)_high_budget                                                -0.408592   \n",
       "Budget (in dollars)_low_budget                                                  0.408592   \n",
       "Age_adult                                                                      -0.297522   \n",
       "Age_elder                                                                      -0.100634   \n",
       "Age_middle_aged                                                                -0.155006   \n",
       "Age_young_adult                                                                 0.427779   \n",
       "Gender_Female                                                                   0.000041   \n",
       "Gender_Male                                                                     0.000852   \n",
       "Gender_Non-binary                                                              -0.001414   \n",
       "Gender_Other                                                                   -0.002008   \n",
       "Gender_Transgender                                                              0.002525   \n",
       "Education_Level_Bachelor’s Degree                                              -0.233200   \n",
       "Education_Level_Did Not Graduate HS                                             0.184229   \n",
       "Education_Level_High School Grad                                                0.172148   \n",
       "Education_Level_Master’s Degree                                                -0.231548   \n",
       "Education_Level_Other                                                           0.178763   \n",
       "Recommended_Activity_Explore: Go sightseeing                                   -0.159438   \n",
       "Recommended_Activity_Explore: Hike                                             -0.158191   \n",
       "Recommended_Activity_Explore: Visit a park                                     -0.157099   \n",
       "Recommended_Activity_Learn: Visit a library                                    -0.158473   \n",
       "Recommended_Activity_Play: Go shopping                                          1.000000   \n",
       "Recommended_Activity_Play: Visit a movie theater                               -0.427184   \n",
       "Recommended_Activity_Stay in: Color                                            -0.164794   \n",
       "Recommended_Activity_Stay in: Play a game                                      -0.164904   \n",
       "Recommended_Activity_Stay in: Watch calming TV                                 -0.164835   \n",
       "\n",
       "                                                  Recommended_Activity_Play: Visit a movie theater  \\\n",
       "Budget (in dollars)_high_budget                                                          -0.410743   \n",
       "Budget (in dollars)_low_budget                                                            0.410743   \n",
       "Age_adult                                                                                -0.299104   \n",
       "Age_elder                                                                                -0.103067   \n",
       "Age_middle_aged                                                                          -0.153665   \n",
       "Age_young_adult                                                                           0.429540   \n",
       "Gender_Female                                                                             0.000373   \n",
       "Gender_Male                                                                              -0.000628   \n",
       "Gender_Non-binary                                                                        -0.002179   \n",
       "Gender_Other                                                                              0.002205   \n",
       "Gender_Transgender                                                                        0.000228   \n",
       "Education_Level_Bachelor’s Degree                                                        -0.233347   \n",
       "Education_Level_Did Not Graduate HS                                                       0.172209   \n",
       "Education_Level_High School Grad                                                          0.182100   \n",
       "Education_Level_Master’s Degree                                                          -0.233660   \n",
       "Education_Level_Other                                                                     0.183430   \n",
       "Recommended_Activity_Explore: Go sightseeing                                             -0.159563   \n",
       "Recommended_Activity_Explore: Hike                                                       -0.158314   \n",
       "Recommended_Activity_Explore: Visit a park                                               -0.157221   \n",
       "Recommended_Activity_Learn: Visit a library                                              -0.158597   \n",
       "Recommended_Activity_Play: Go shopping                                                   -0.427184   \n",
       "Recommended_Activity_Play: Visit a movie theater                                          1.000000   \n",
       "Recommended_Activity_Stay in: Color                                                      -0.164923   \n",
       "Recommended_Activity_Stay in: Play a game                                                -0.165032   \n",
       "Recommended_Activity_Stay in: Watch calming TV                                           -0.164964   \n",
       "\n",
       "                                                  Recommended_Activity_Stay in: Color  \\\n",
       "Budget (in dollars)_high_budget                                              0.219856   \n",
       "Budget (in dollars)_low_budget                                              -0.219856   \n",
       "Age_adult                                                                    0.172050   \n",
       "Age_elder                                                                    0.056782   \n",
       "Age_middle_aged                                                              0.089667   \n",
       "Age_young_adult                                                             -0.246739   \n",
       "Gender_Female                                                                0.002433   \n",
       "Gender_Male                                                                  0.000656   \n",
       "Gender_Non-binary                                                           -0.002933   \n",
       "Gender_Other                                                                -0.000833   \n",
       "Gender_Transgender                                                           0.000672   \n",
       "Education_Level_Bachelor’s Degree                                            0.121583   \n",
       "Education_Level_Did Not Graduate HS                                         -0.089298   \n",
       "Education_Level_High School Grad                                            -0.088012   \n",
       "Education_Level_Master’s Degree                                              0.123356   \n",
       "Education_Level_Other                                                       -0.104733   \n",
       "Recommended_Activity_Explore: Go sightseeing                                -0.061554   \n",
       "Recommended_Activity_Explore: Hike                                          -0.061072   \n",
       "Recommended_Activity_Explore: Visit a park                                  -0.060651   \n",
       "Recommended_Activity_Learn: Visit a library                                 -0.061182   \n",
       "Recommended_Activity_Play: Go shopping                                      -0.164794   \n",
       "Recommended_Activity_Play: Visit a movie theater                            -0.164923   \n",
       "Recommended_Activity_Stay in: Color                                          1.000000   \n",
       "Recommended_Activity_Stay in: Play a game                                   -0.063664   \n",
       "Recommended_Activity_Stay in: Watch calming TV                              -0.063638   \n",
       "\n",
       "                                                  Recommended_Activity_Stay in: Play a game  \\\n",
       "Budget (in dollars)_high_budget                                                    0.217523   \n",
       "Budget (in dollars)_low_budget                                                    -0.217523   \n",
       "Age_adult                                                                          0.171558   \n",
       "Age_elder                                                                          0.052509   \n",
       "Age_middle_aged                                                                    0.093721   \n",
       "Age_young_adult                                                                   -0.246904   \n",
       "Gender_Female                                                                     -0.002603   \n",
       "Gender_Male                                                                       -0.000241   \n",
       "Gender_Non-binary                                                                  0.002535   \n",
       "Gender_Other                                                                       0.000735   \n",
       "Gender_Transgender                                                                -0.000422   \n",
       "Education_Level_Bachelor’s Degree                                                  0.121652   \n",
       "Education_Level_Did Not Graduate HS                                               -0.086599   \n",
       "Education_Level_High School Grad                                                  -0.087156   \n",
       "Education_Level_Master’s Degree                                                    0.120180   \n",
       "Education_Level_Other                                                             -0.104708   \n",
       "Recommended_Activity_Explore: Go sightseeing                                      -0.061595   \n",
       "Recommended_Activity_Explore: Hike                                                -0.061113   \n",
       "Recommended_Activity_Explore: Visit a park                                        -0.060691   \n",
       "Recommended_Activity_Learn: Visit a library                                       -0.061222   \n",
       "Recommended_Activity_Play: Go shopping                                            -0.164904   \n",
       "Recommended_Activity_Play: Visit a movie theater                                  -0.165032   \n",
       "Recommended_Activity_Stay in: Color                                               -0.063664   \n",
       "Recommended_Activity_Stay in: Play a game                                          1.000000   \n",
       "Recommended_Activity_Stay in: Watch calming TV                                    -0.063680   \n",
       "\n",
       "                                                  Recommended_Activity_Stay in: Watch calming TV  \n",
       "Budget (in dollars)_high_budget                                                         0.221938  \n",
       "Budget (in dollars)_low_budget                                                         -0.221938  \n",
       "Age_adult                                                                               0.174557  \n",
       "Age_elder                                                                               0.059205  \n",
       "Age_middle_aged                                                                         0.084339  \n",
       "Age_young_adult                                                                        -0.246801  \n",
       "Gender_Female                                                                           0.001339  \n",
       "Gender_Male                                                                            -0.000979  \n",
       "Gender_Non-binary                                                                       0.000364  \n",
       "Gender_Other                                                                           -0.000793  \n",
       "Gender_Transgender                                                                      0.000071  \n",
       "Education_Level_Bachelor’s Degree                                                       0.122769  \n",
       "Education_Level_Did Not Graduate HS                                                    -0.091016  \n",
       "Education_Level_High School Grad                                                       -0.087257  \n",
       "Education_Level_Master’s Degree                                                         0.124541  \n",
       "Education_Level_Other                                                                  -0.106501  \n",
       "Recommended_Activity_Explore: Go sightseeing                                           -0.061569  \n",
       "Recommended_Activity_Explore: Hike                                                     -0.061088  \n",
       "Recommended_Activity_Explore: Visit a park                                             -0.060666  \n",
       "Recommended_Activity_Learn: Visit a library                                            -0.061197  \n",
       "Recommended_Activity_Play: Go shopping                                                 -0.164835  \n",
       "Recommended_Activity_Play: Visit a movie theater                                       -0.164964  \n",
       "Recommended_Activity_Stay in: Color                                                    -0.063638  \n",
       "Recommended_Activity_Stay in: Play a game                                              -0.063680  \n",
       "Recommended_Activity_Stay in: Watch calming TV                                          1.000000  \n",
       "\n",
       "[25 rows x 25 columns]"
      ]
     },
     "execution_count": 21,
     "metadata": {},
     "output_type": "execute_result"
    }
   ],
   "source": [
    "#FILL IN\n",
    "categorical_dataset.corr()"
   ]
  },
  {
   "cell_type": "code",
   "execution_count": 22,
   "metadata": {
    "graffitiCellId": "id_crv6s2e"
   },
   "outputs": [],
   "source": [
    "##Helper code provided by Fairlearn tutorials\n",
    "def plot_heatmap(df, title):\n",
    "    cols = list(df.columns)\n",
    "\n",
    "    fig, ax = plt.subplots(figsize=(20, 15))\n",
    "    ax.imshow(round(df.corr(), 2), cmap=\"coolwarm\")\n",
    "\n",
    "    # Show all ticks and label them with the respective list entries\n",
    "    ax.set_xticks(np.arange(len(cols)))\n",
    "    ax.set_xticklabels(cols)\n",
    "    ax.set_yticks(np.arange(len(cols)))\n",
    "    ax.set_yticklabels(cols)\n",
    "\n",
    "    # Rotate the tick labels and set their alignment.\n",
    "    plt.setp(ax.get_xticklabels(), rotation=25, ha=\"right\", rotation_mode=\"anchor\")\n",
    "\n",
    "    # Loop over data dimensions and create text annotations.\n",
    "    for i in range(len(cols)):\n",
    "        for j in range(len(cols)):\n",
    "            ax.text(\n",
    "                j,\n",
    "                i,\n",
    "                round(df.corr().to_numpy()[i, j], 2),\n",
    "                ha=\"center\",\n",
    "                va=\"center\",\n",
    "            )\n",
    "\n",
    "    ax.set_title(f\"{title}\")\n",
    "    plt.show()"
   ]
  },
  {
   "cell_type": "code",
   "execution_count": 23,
   "metadata": {
    "graffitiCellId": "id_ym8fijw"
   },
   "outputs": [
    {
     "data": {
      "image/png": "[encoded data removed]",
      "text/plain": [
       "<Figure size 1440x1080 with 1 Axes>"
      ]
     },
     "metadata": {
      "needs_background": "light"
     },
     "output_type": "display_data"
    }
   ],
   "source": [
    "plot_heatmap(categorical_dataset, \"Correlation values in the original dataset\")"
   ]
  },
  {
   "cell_type": "markdown",
   "metadata": {
    "graffitiCellId": "id_6pb6hn8"
   },
   "source": [
    "Question: What trends did you spot in the interactions between the categoritcal variables?\n",
    "\n",
    "**Your answer:** We see that there is a high correlation between the age groups of yound adult, adult and the budget feature. More specifically, we can imply that the younger a person is (out of the app's users), the more likely it is that this person has a low budget. Moreover, there is a weaker correlation between the high levels of education and and the budget feature. In more details, it is slightly more likely for a person with a higher level of education to have a higher budget."
   ]
  },
  {
   "cell_type": "markdown",
   "metadata": {
    "graffitiCellId": "id_jotehb7"
   },
   "source": [
    "For the purposes of this project, we will drop the following elements from the dataframe:\n",
    "\n",
    "- Education_Level_Did Not Graduate HS\n",
    "- Education_Level_Other\n",
    "- Budget (in dollars)_<300\n",
    "- With children?"
   ]
  },
  {
   "cell_type": "code",
   "execution_count": 24,
   "metadata": {
    "graffitiCellId": "id_dt8s85n"
   },
   "outputs": [
    {
     "data": {
      "text/html": [
       "<div>\n",
       "<style scoped>\n",
       "    .dataframe tbody tr th:only-of-type {\n",
       "        vertical-align: middle;\n",
       "    }\n",
       "\n",
       "    .dataframe tbody tr th {\n",
       "        vertical-align: top;\n",
       "    }\n",
       "\n",
       "    .dataframe thead th {\n",
       "        text-align: right;\n",
       "    }\n",
       "</style>\n",
       "<table border=\"1\" class=\"dataframe\">\n",
       "  <thead>\n",
       "    <tr style=\"text-align: right;\">\n",
       "      <th></th>\n",
       "      <th>Budget (in dollars)_high_budget</th>\n",
       "      <th>Age_adult</th>\n",
       "      <th>Age_elder</th>\n",
       "      <th>Age_middle_aged</th>\n",
       "      <th>Age_young_adult</th>\n",
       "      <th>Gender_Female</th>\n",
       "      <th>Gender_Male</th>\n",
       "      <th>Gender_Non-binary</th>\n",
       "      <th>Gender_Other</th>\n",
       "      <th>Gender_Transgender</th>\n",
       "      <th>...</th>\n",
       "      <th>Education_Level_Master’s Degree</th>\n",
       "      <th>Recommended_Activity_Explore: Go sightseeing</th>\n",
       "      <th>Recommended_Activity_Explore: Hike</th>\n",
       "      <th>Recommended_Activity_Explore: Visit a park</th>\n",
       "      <th>Recommended_Activity_Learn: Visit a library</th>\n",
       "      <th>Recommended_Activity_Play: Go shopping</th>\n",
       "      <th>Recommended_Activity_Play: Visit a movie theater</th>\n",
       "      <th>Recommended_Activity_Stay in: Color</th>\n",
       "      <th>Recommended_Activity_Stay in: Play a game</th>\n",
       "      <th>Recommended_Activity_Stay in: Watch calming TV</th>\n",
       "    </tr>\n",
       "  </thead>\n",
       "  <tbody>\n",
       "    <tr>\n",
       "      <th>0</th>\n",
       "      <td>1</td>\n",
       "      <td>1</td>\n",
       "      <td>0</td>\n",
       "      <td>0</td>\n",
       "      <td>0</td>\n",
       "      <td>0</td>\n",
       "      <td>0</td>\n",
       "      <td>0</td>\n",
       "      <td>0</td>\n",
       "      <td>1</td>\n",
       "      <td>...</td>\n",
       "      <td>0</td>\n",
       "      <td>0</td>\n",
       "      <td>0</td>\n",
       "      <td>0</td>\n",
       "      <td>0</td>\n",
       "      <td>0</td>\n",
       "      <td>0</td>\n",
       "      <td>0</td>\n",
       "      <td>0</td>\n",
       "      <td>1</td>\n",
       "    </tr>\n",
       "    <tr>\n",
       "      <th>1</th>\n",
       "      <td>1</td>\n",
       "      <td>0</td>\n",
       "      <td>1</td>\n",
       "      <td>0</td>\n",
       "      <td>0</td>\n",
       "      <td>0</td>\n",
       "      <td>0</td>\n",
       "      <td>0</td>\n",
       "      <td>1</td>\n",
       "      <td>0</td>\n",
       "      <td>...</td>\n",
       "      <td>0</td>\n",
       "      <td>0</td>\n",
       "      <td>0</td>\n",
       "      <td>0</td>\n",
       "      <td>0</td>\n",
       "      <td>0</td>\n",
       "      <td>1</td>\n",
       "      <td>0</td>\n",
       "      <td>0</td>\n",
       "      <td>0</td>\n",
       "    </tr>\n",
       "    <tr>\n",
       "      <th>3</th>\n",
       "      <td>0</td>\n",
       "      <td>0</td>\n",
       "      <td>0</td>\n",
       "      <td>0</td>\n",
       "      <td>1</td>\n",
       "      <td>0</td>\n",
       "      <td>0</td>\n",
       "      <td>1</td>\n",
       "      <td>0</td>\n",
       "      <td>0</td>\n",
       "      <td>...</td>\n",
       "      <td>0</td>\n",
       "      <td>0</td>\n",
       "      <td>0</td>\n",
       "      <td>0</td>\n",
       "      <td>0</td>\n",
       "      <td>0</td>\n",
       "      <td>1</td>\n",
       "      <td>0</td>\n",
       "      <td>0</td>\n",
       "      <td>0</td>\n",
       "    </tr>\n",
       "    <tr>\n",
       "      <th>4</th>\n",
       "      <td>1</td>\n",
       "      <td>0</td>\n",
       "      <td>1</td>\n",
       "      <td>0</td>\n",
       "      <td>0</td>\n",
       "      <td>0</td>\n",
       "      <td>0</td>\n",
       "      <td>1</td>\n",
       "      <td>0</td>\n",
       "      <td>0</td>\n",
       "      <td>...</td>\n",
       "      <td>1</td>\n",
       "      <td>0</td>\n",
       "      <td>0</td>\n",
       "      <td>0</td>\n",
       "      <td>1</td>\n",
       "      <td>0</td>\n",
       "      <td>0</td>\n",
       "      <td>0</td>\n",
       "      <td>0</td>\n",
       "      <td>0</td>\n",
       "    </tr>\n",
       "    <tr>\n",
       "      <th>5</th>\n",
       "      <td>1</td>\n",
       "      <td>1</td>\n",
       "      <td>0</td>\n",
       "      <td>0</td>\n",
       "      <td>0</td>\n",
       "      <td>0</td>\n",
       "      <td>1</td>\n",
       "      <td>0</td>\n",
       "      <td>0</td>\n",
       "      <td>0</td>\n",
       "      <td>...</td>\n",
       "      <td>0</td>\n",
       "      <td>0</td>\n",
       "      <td>0</td>\n",
       "      <td>0</td>\n",
       "      <td>0</td>\n",
       "      <td>1</td>\n",
       "      <td>0</td>\n",
       "      <td>0</td>\n",
       "      <td>0</td>\n",
       "      <td>0</td>\n",
       "    </tr>\n",
       "  </tbody>\n",
       "</table>\n",
       "<p>5 rows × 22 columns</p>\n",
       "</div>"
      ],
      "text/plain": [
       "   Budget (in dollars)_high_budget  Age_adult  Age_elder  Age_middle_aged  \\\n",
       "0                                1          1          0                0   \n",
       "1                                1          0          1                0   \n",
       "3                                0          0          0                0   \n",
       "4                                1          0          1                0   \n",
       "5                                1          1          0                0   \n",
       "\n",
       "   Age_young_adult  Gender_Female  Gender_Male  Gender_Non-binary  \\\n",
       "0                0              0            0                  0   \n",
       "1                0              0            0                  0   \n",
       "3                1              0            0                  1   \n",
       "4                0              0            0                  1   \n",
       "5                0              0            1                  0   \n",
       "\n",
       "   Gender_Other  Gender_Transgender  ...  Education_Level_Master’s Degree  \\\n",
       "0             0                   1  ...                                0   \n",
       "1             1                   0  ...                                0   \n",
       "3             0                   0  ...                                0   \n",
       "4             0                   0  ...                                1   \n",
       "5             0                   0  ...                                0   \n",
       "\n",
       "   Recommended_Activity_Explore: Go sightseeing  \\\n",
       "0                                             0   \n",
       "1                                             0   \n",
       "3                                             0   \n",
       "4                                             0   \n",
       "5                                             0   \n",
       "\n",
       "   Recommended_Activity_Explore: Hike  \\\n",
       "0                                   0   \n",
       "1                                   0   \n",
       "3                                   0   \n",
       "4                                   0   \n",
       "5                                   0   \n",
       "\n",
       "   Recommended_Activity_Explore: Visit a park  \\\n",
       "0                                           0   \n",
       "1                                           0   \n",
       "3                                           0   \n",
       "4                                           0   \n",
       "5                                           0   \n",
       "\n",
       "   Recommended_Activity_Learn: Visit a library  \\\n",
       "0                                            0   \n",
       "1                                            0   \n",
       "3                                            0   \n",
       "4                                            1   \n",
       "5                                            0   \n",
       "\n",
       "   Recommended_Activity_Play: Go shopping  \\\n",
       "0                                       0   \n",
       "1                                       0   \n",
       "3                                       0   \n",
       "4                                       0   \n",
       "5                                       1   \n",
       "\n",
       "   Recommended_Activity_Play: Visit a movie theater  \\\n",
       "0                                                 0   \n",
       "1                                                 1   \n",
       "3                                                 1   \n",
       "4                                                 0   \n",
       "5                                                 0   \n",
       "\n",
       "   Recommended_Activity_Stay in: Color  \\\n",
       "0                                    0   \n",
       "1                                    0   \n",
       "3                                    0   \n",
       "4                                    0   \n",
       "5                                    0   \n",
       "\n",
       "   Recommended_Activity_Stay in: Play a game  \\\n",
       "0                                          0   \n",
       "1                                          0   \n",
       "3                                          0   \n",
       "4                                          0   \n",
       "5                                          0   \n",
       "\n",
       "   Recommended_Activity_Stay in: Watch calming TV  \n",
       "0                                               1  \n",
       "1                                               0  \n",
       "3                                               0  \n",
       "4                                               0  \n",
       "5                                               0  \n",
       "\n",
       "[5 rows x 22 columns]"
      ]
     },
     "execution_count": 24,
     "metadata": {},
     "output_type": "execute_result"
    }
   ],
   "source": [
    "#We drop certain variables that are highly correlated and irrelevant\n",
    "categorical_dataset = categorical_dataset.drop(columns=['Education_Level_Did Not Graduate HS', 'Education_Level_Other', 'Budget (in dollars)_low_budget'])\n",
    "categorical_dataset.head()"
   ]
  },
  {
   "cell_type": "markdown",
   "metadata": {
    "graffitiCellId": "id_jiw6vdh"
   },
   "source": [
    "### Evaluate fairness issues\n",
    "\n",
    "Use the IBM AIF360 toolkit to first evaluate the **statistical parity difference** and the **disparate impact** for this dataset; we will later consider other fairness metrics. Interpret your findings - is there bias in the proposed problem statement? If yes, what group is benefitting?\n",
    "\n",
    "**Hint**: Use the BinaryLabelDataset and the BinaryLabelDatasetMetric functions for the fairness evaluation. The reported Statistical Parity Difference may be within -0.64 and -0.55, and the Disparate impact value may be within 0.136 and 0.0150."
   ]
  },
  {
   "cell_type": "code",
   "execution_count": 25,
   "metadata": {
    "graffitiCellId": "id_u75dukz"
   },
   "outputs": [
    {
     "data": {
      "text/plain": [
       "Index(['Budget (in dollars)_high_budget', 'Age_adult', 'Age_elder',\n",
       "       'Age_middle_aged', 'Age_young_adult', 'Gender_Female', 'Gender_Male',\n",
       "       'Gender_Non-binary', 'Gender_Other', 'Gender_Transgender',\n",
       "       'Education_Level_Bachelor’s Degree', 'Education_Level_High School Grad',\n",
       "       'Education_Level_Master’s Degree',\n",
       "       'Recommended_Activity_Explore: Go sightseeing',\n",
       "       'Recommended_Activity_Explore: Hike',\n",
       "       'Recommended_Activity_Explore: Visit a park',\n",
       "       'Recommended_Activity_Learn: Visit a library',\n",
       "       'Recommended_Activity_Play: Go shopping',\n",
       "       'Recommended_Activity_Play: Visit a movie theater',\n",
       "       'Recommended_Activity_Stay in: Color',\n",
       "       'Recommended_Activity_Stay in: Play a game',\n",
       "       'Recommended_Activity_Stay in: Watch calming TV'],\n",
       "      dtype='object')"
      ]
     },
     "execution_count": 25,
     "metadata": {},
     "output_type": "execute_result"
    }
   ],
   "source": [
    "categorical_dataset.columns"
   ]
  },
  {
   "cell_type": "code",
   "execution_count": 26,
   "metadata": {
    "graffitiCellId": "id_9oq0iut"
   },
   "outputs": [],
   "source": [
    "binary_act_dataset = BinaryLabelDataset(\n",
    "    favorable_label=1,\n",
    "    unfavorable_label=0,\n",
    "    df=categorical_dataset,\n",
    "    label_names=['Budget (in dollars)_high_budget'],\n",
    "    protected_attribute_names=['Age_middle_aged', 'Age_elder'])\n",
    "\n",
    "privileged_groups = [{'Age_middle_aged': 1}, {'Age_elder': 1}]\n",
    "unprivileged_groups = [{'Age_middle_aged': 0, 'Age_elder': 0}]"
   ]
  },
  {
   "cell_type": "code",
   "execution_count": 27,
   "metadata": {
    "graffitiCellId": "id_xczwzpd"
   },
   "outputs": [
    {
     "name": "stdout",
     "output_type": "stream",
     "text": [
      "Statistical Parity Difference = -0.574263\n",
      "Disparate impact: 0.4070\n"
     ]
    }
   ],
   "source": [
    "orig_metric_act_dataset = BinaryLabelDatasetMetric(binary_act_dataset,\n",
    "                                                   unprivileged_groups=unprivileged_groups,\n",
    "                                                   privileged_groups=privileged_groups)\n",
    "\n",
    "print(\"Statistical Parity Difference = %f\" % orig_metric_act_dataset.mean_difference())\n",
    "print(f\"Disparate impact: {orig_metric_act_dataset.disparate_impact():.4f}\")"
   ]
  },
  {
   "cell_type": "markdown",
   "metadata": {
    "graffitiCellId": "id_321p02l"
   },
   "source": [
    "Question: Evaluate the fairness metrics. What are your findings? Is there bias in the proposed problem statement? If yes, what group is benefitting?\n",
    "\n",
    "**Your answer:** Since the Statistical Parity Difference and the Disparate Impact values are less than 0 and 1, respectively, we can conclude that the privileged groups have a higher impact. That is, older people are the group that is benefitting."
   ]
  },
  {
   "cell_type": "markdown",
   "metadata": {
    "graffitiCellId": "id_6ujpcqr"
   },
   "source": [
    "## Step 2: Investigate an ML model on the problematic Dataset"
   ]
  },
  {
   "cell_type": "markdown",
   "metadata": {
    "graffitiCellId": "id_gxtxkzj"
   },
   "source": [
    "For this project, we are using a train-test-validation split.\n",
    "\n",
    "You have available boilerplate for training 2 ML models on this dataset - you will need to train these models and use the methods we covered in this course to identify and evaluate their performance (**using the accuracy metric and confusion matrix**).\n",
    "\n",
    "As part of this process, you will also analyze and evaluate fairness and bias issues in the AI solution."
   ]
  },
  {
   "cell_type": "code",
   "execution_count": 28,
   "metadata": {
    "graffitiCellId": "id_v5oxpnk"
   },
   "outputs": [],
   "source": [
    "(orig_train,\n",
    " orig_validate,\n",
    " orig_test) = binary_act_dataset.split([0.5, 0.8], shuffle=True)"
   ]
  },
  {
   "cell_type": "code",
   "execution_count": 29,
   "metadata": {
    "graffitiCellId": "id_hnwseu3"
   },
   "outputs": [],
   "source": [
    "#Source: Helper code snippet from https://github.com/Trusted-AI/AIF360/blob/master/examples/tutorial_medical_expenditure.ipynb\n",
    "def test(dataset, model, thresh_arr):\n",
    "    y_val_pred_prob = model.predict_proba(dataset.features)\n",
    "    y_val_pred = model.predict(dataset.features)\n",
    "    pos_ind = np.where(model.classes_ == dataset.favorable_label)[0][0]\n",
    "    metric_arrs = defaultdict(list)\n",
    "    for thresh in thresh_arr:\n",
    "        y_val_pred = (y_val_pred_prob[:, pos_ind] > thresh).astype(np.float64)\n",
    "\n",
    "        dataset_pred = dataset.copy()\n",
    "        dataset_pred.labels = y_val_pred\n",
    "        metric = ClassificationMetric(\n",
    "                dataset, dataset_pred,\n",
    "                unprivileged_groups=unprivileged_groups,\n",
    "                privileged_groups=privileged_groups)\n",
    "\n",
    "        metric_arrs['bal_acc'].append((metric.true_positive_rate()\n",
    "                                     + metric.true_negative_rate()) / 2)\n",
    "        metric_arrs['avg_odds_diff'].append(metric.average_odds_difference())\n",
    "        metric_arrs['disp_imp'].append(metric.disparate_impact())\n",
    "        metric_arrs['stat_par_diff'].append(metric.statistical_parity_difference())\n",
    "        metric_arrs['eq_opp_diff'].append(metric.equal_opportunity_difference())\n",
    "        metric_arrs['theil_ind'].append(metric.theil_index())\n",
    "    \n",
    "    return metric_arrs, y_val_pred\n",
    "\n",
    "def describe_metrics(metrics, thresh_arr):\n",
    "    best_ind = np.argmax(metrics['bal_acc'])\n",
    "    print(\"Threshold corresponding to Best balanced accuracy: {:6.4f}\".format(thresh_arr[best_ind]))\n",
    "    print(\"Best balanced accuracy: {:6.4f}\".format(metrics['bal_acc'][best_ind]))\n",
    "    print(\"Corresponding average odds difference value: {:6.4f}\".format(metrics['avg_odds_diff'][best_ind]))\n",
    "    print(\"Corresponding statistical parity difference value: {:6.4f}\".format(metrics['stat_par_diff'][best_ind]))\n",
    "    print(\"Corresponding equal opportunity difference value: {:6.4f}\".format(metrics['eq_opp_diff'][best_ind]))\n",
    "    print(\"Corresponding Theil index value: {:6.4f}\".format(metrics['theil_ind'][best_ind]))"
   ]
  },
  {
   "cell_type": "code",
   "execution_count": 30,
   "metadata": {
    "graffitiCellId": "id_b0zcsr1"
   },
   "outputs": [
    {
     "name": "stdout",
     "output_type": "stream",
     "text": [
      "Threshold corresponding to Best balanced accuracy: 0.0100\n",
      "Best balanced accuracy: 0.9873\n",
      "Corresponding average odds difference value: -0.3568\n",
      "Corresponding statistical parity difference value: -0.5869\n",
      "Corresponding equal opportunity difference value: -0.0011\n",
      "Corresponding Theil index value: 0.0056\n"
     ]
    }
   ],
   "source": [
    "GNB_model = GaussianNB().fit(orig_train.features, orig_train.labels.ravel(), orig_train.instance_weights) \n",
    "thresh_arr = np.linspace(0.01, 0.5, 50)\n",
    "val_metrics, gnb_pred = test(dataset=orig_test,\n",
    "                   model=GNB_model,\n",
    "                   thresh_arr=thresh_arr)\n",
    "describe_metrics(val_metrics, thresh_arr)"
   ]
  },
  {
   "cell_type": "code",
   "execution_count": 31,
   "metadata": {
    "graffitiCellId": "id_at16e55"
   },
   "outputs": [
    {
     "name": "stdout",
     "output_type": "stream",
     "text": [
      "The accuracy of the model on the train set is: 98.70%\n"
     ]
    }
   ],
   "source": [
    "#FILL IN\n",
    "#Evaluate the accuracy of the model\n",
    "#Visualize the performance (confusion matrix) of the model\n",
    "y_train_pred = GNB_model.predict(orig_train.features)\n",
    "print('The accuracy of the model on the train set is: {:.2f}%'.format(accuracy_score(orig_train.labels.ravel(), y_train_pred)*100))"
   ]
  },
  {
   "cell_type": "code",
   "execution_count": 32,
   "metadata": {
    "graffitiCellId": "id_dojuunw"
   },
   "outputs": [
    {
     "data": {
      "image/png": "[encoded data removed]",
      "text/plain": [
       "<Figure size 432x288 with 2 Axes>"
      ]
     },
     "metadata": {
      "needs_background": "light"
     },
     "output_type": "display_data"
    }
   ],
   "source": [
    "cm = confusion_matrix(orig_train.labels.ravel(), y_train_pred, labels=GNB_model.classes_)\n",
    "disp = ConfusionMatrixDisplay(confusion_matrix=cm,\n",
    "                              display_labels=GNB_model.classes_)\n",
    "disp.plot()\n",
    "plt.show()"
   ]
  },
  {
   "cell_type": "code",
   "execution_count": 33,
   "metadata": {
    "graffitiCellId": "id_l9lbuuu"
   },
   "outputs": [],
   "source": [
    "LR_model = LogisticRegression().fit(orig_train.features, orig_train.labels.ravel(), orig_train.instance_weights)"
   ]
  },
  {
   "cell_type": "code",
   "execution_count": 34,
   "metadata": {
    "graffitiCellId": "id_b95zv54"
   },
   "outputs": [
    {
     "name": "stdout",
     "output_type": "stream",
     "text": [
      "Threshold corresponding to Best balanced accuracy: 0.3800\n",
      "Best balanced accuracy: 0.9957\n",
      "Corresponding average odds difference value: -0.0021\n",
      "Corresponding statistical parity difference value: -0.5690\n",
      "Corresponding equal opportunity difference value: -0.0001\n",
      "Corresponding Theil index value: 0.0042\n"
     ]
    }
   ],
   "source": [
    "#Load the Logistic Regression model\n",
    "thresh_arr = np.linspace(0.01, 0.5, 50)\n",
    "val_metrics, lr_pred = test(dataset=orig_test,\n",
    "                   model=LR_model,\n",
    "                   thresh_arr=thresh_arr)\n",
    "describe_metrics(val_metrics, thresh_arr)"
   ]
  },
  {
   "cell_type": "code",
   "execution_count": 35,
   "metadata": {
    "graffitiCellId": "id_ku6kvi6"
   },
   "outputs": [
    {
     "name": "stdout",
     "output_type": "stream",
     "text": [
      "The accuracy of the model on the train set is: 99.56%\n"
     ]
    }
   ],
   "source": [
    "#FILL IN\n",
    "#Evaluate the accuracy of the model\n",
    "#Visualize the performance (confusion matrix) of the model\n",
    "y_train_pred = LR_model.predict(orig_train.features)\n",
    "print('The accuracy of the model on the train set is: {:.2f}%'.format(accuracy_score(orig_train.labels.ravel(), y_train_pred)*100))"
   ]
  },
  {
   "cell_type": "code",
   "execution_count": 36,
   "metadata": {
    "graffitiCellId": "id_xkl22u8"
   },
   "outputs": [
    {
     "data": {
      "image/png": "[encoded data removed]",
      "text/plain": [
       "<Figure size 432x288 with 2 Axes>"
      ]
     },
     "metadata": {
      "needs_background": "light"
     },
     "output_type": "display_data"
    }
   ],
   "source": [
    "cm = confusion_matrix(orig_train.labels.ravel(), y_train_pred, labels=LR_model.classes_)\n",
    "disp = ConfusionMatrixDisplay(confusion_matrix=cm,\n",
    "                              display_labels=LR_model.classes_)\n",
    "disp.plot()\n",
    "plt.show()"
   ]
  },
  {
   "cell_type": "code",
   "execution_count": 37,
   "metadata": {
    "graffitiCellId": "id_pg3sj1q"
   },
   "outputs": [
    {
     "data": {
      "image/png": "[encoded data removed]",
      "text/plain": [
       "<Figure size 720x360 with 1 Axes>"
      ]
     },
     "metadata": {
      "needs_background": "light"
     },
     "output_type": "display_data"
    }
   ],
   "source": [
    "#Fill IN\n",
    "#Compare the model accuracy on test dataset either in a bar plot or table format\n",
    "\n",
    "data = {'GNB Model': accuracy_score(orig_test.labels.ravel(), gnb_pred)*100,\n",
    "        'LR Model': accuracy_score(orig_test.labels.ravel(), lr_pred)*100}\n",
    "names = list(data.keys())\n",
    "values = list(data.values())\n",
    "  \n",
    "fig = plt.figure(figsize = (10, 5))\n",
    " \n",
    "# creating the bar plot\n",
    "plt.bar(names, values, color ='lightblue', width = 0.4)\n",
    " \n",
    "plt.xlabel(\"Models\")\n",
    "plt.ylabel(\"Accuracy\")\n",
    "plt.title(\"Model Accuracy\")\n",
    "plt.show()"
   ]
  },
  {
   "cell_type": "code",
   "execution_count": 38,
   "metadata": {
    "graffitiCellId": "id_8fnx6lt"
   },
   "outputs": [],
   "source": [
    "#FILL IN Optional\n",
    "#Compare the fairness metrics on test dataset"
   ]
  },
  {
   "cell_type": "markdown",
   "metadata": {
    "graffitiCellId": "id_4dncppg"
   },
   "source": [
    "Question: Interpret and compare the results of each model. What do you find in the false negative and false positive of each model? What about the fairness metrics?\n",
    "\n",
    "**Your answer:** We see that the accuracy of the Logistic Regression (model 2) is slightly better than the one of the Gaussian Naive Bayes model (model 1). Regarding the confusion matrices, we see that model 1 has more FP than FN, while, for model 2, the other way around applies. Comparing the fairness metrics, we conclude that model 2 has slightly better values overall, meaning that the privileged groups have less benefit in this case compared to model 1."
   ]
  },
  {
   "cell_type": "markdown",
   "metadata": {
    "graffitiCellId": "id_wl41zf1"
   },
   "source": [
    "Question: Pick one of the models, Gaussian Naive Bayes classifier or Logistic Regression, based on your assessment of the results. Briefly explain your reason.\n",
    "\n",
    "**Your answer:** We will proceed with the second model, since the fairness metrics values do not differ much from the ones of model 1. The reason why we choose the Logistic Regression model is because of smaller FP and that FN > FP. That means that a high-budget user is more likely to be identified as low-budget than the opposite scenario, that is a low-budget user to be classified as a high-budget one. This is good for us because we want the app to make suggestions that the user can be satisfied with and in the case of, the app will suggest low-cost activities which can be afforder by both budget groups. As a result, we will reduce the chances of having a user dissatisfied with the app's recommendations. Finally, the fairness metrics are also better for model 2."
   ]
  },
  {
   "cell_type": "markdown",
   "metadata": {
    "graffitiCellId": "id_dj7cg4y"
   },
   "source": [
    "## Step 3: Writing exercise: Model Card Articulation and Report Generation"
   ]
  },
  {
   "cell_type": "markdown",
   "metadata": {
    "graffitiCellId": "id_hmwgjrk"
   },
   "source": [
    "Begin articulating the elements of your model card (3-5 sentences/bullets for each section). Please delineate bullet points using two hyphens, as show in the example below.\n",
    "\n",
    "As part of the intended use section, articulate how elements of **interpretability**, **privacy**, and **fairness** can be designed into the user interaction elements of the use case. **Hint:** Should IDOOU prompt the user to check whether the budget predictor model's results are correct?"
   ]
  },
  {
   "cell_type": "code",
   "execution_count": 39,
   "metadata": {
    "graffitiCellId": "id_2o5rxpi"
   },
   "outputs": [],
   "source": [
    "model_details = \"\"\"\n",
    "-- Budget Predicter AI is a model that predicts the budget class of each app user\n",
    "-- based on the provided information by the user. There two budget classes:\n",
    "-- low budget: <300 and high budget: >=300.\n",
    "\"\"\"\n",
    "intended_use = \"\"\"\n",
    "-- The use of this model aims to correclty classify the user based on\n",
    "-- their budget so that it can give suitable, and of course, affordable,\n",
    "-- activities recommendations.\n",
    "\"\"\"\n",
    "factors = \"\"\"\n",
    "-- The factors considered for the training of the model are:\n",
    "-- age group\n",
    "-- gender\n",
    "-- education level\n",
    "-- recommended activities\n",
    "\"\"\""
   ]
  },
  {
   "cell_type": "markdown",
   "metadata": {
    "graffitiCellId": "id_x5t0ggt"
   },
   "source": [
    "Next, write the content for the metrics, Training Data, and Evaluation Data of your model card."
   ]
  },
  {
   "cell_type": "code",
   "execution_count": 40,
   "metadata": {
    "graffitiCellId": "id_lnfjnzi"
   },
   "outputs": [],
   "source": [
    "metrics = \"\"\"\n",
    "-- In order to check the validity of the model's results, we used the following metrics:\n",
    "-- accuracy\n",
    "-- confusion matrix\n",
    "-- fairness metrics e.g. statistical parity difference, disparate impact\n",
    "\"\"\"\n",
    "training_data = \"\"\"\n",
    "-- The training data were collected by user input on the specified features mentioned in the factors section.\n",
    "\"\"\"\n",
    "eval_data = \"\"\"\n",
    "-- The data used for evaluation come from a slice of the training data.\n",
    "\"\"\""
   ]
  },
  {
   "cell_type": "markdown",
   "metadata": {
    "graffitiCellId": "id_cs4ixvf"
   },
   "source": [
    "## Step 4: Use Interpretability mechanisms"
   ]
  },
  {
   "cell_type": "markdown",
   "metadata": {
    "graffitiCellId": "id_09g1ajn"
   },
   "source": [
    "Use an interpretability mechanism(s) of your choice, e.g. permutation importance, LIME, etc., to understand the feature importance and model's predictions on the test dataset. **Visualize** and note down the key contributing factors - you will later incorporate this in your model card."
   ]
  },
  {
   "cell_type": "code",
   "execution_count": 41,
   "metadata": {
    "graffitiCellId": "id_6xyzm72"
   },
   "outputs": [
    {
     "data": {
      "text/plain": [
       "RandomForestClassifier(n_estimators=500, random_state=42)"
      ]
     },
     "execution_count": 41,
     "metadata": {},
     "output_type": "execute_result"
    }
   ],
   "source": [
    "#FILL IN\n",
    "#Use an interpretability mechanism to investigate the AI model you chose\n",
    "rf = RandomForestClassifier(n_estimators=500, random_state=42)\n",
    "rf.fit(orig_train.features, orig_train.labels.ravel())"
   ]
  },
  {
   "cell_type": "code",
   "execution_count": 42,
   "metadata": {
    "graffitiCellId": "id_bfue48q"
   },
   "outputs": [],
   "source": [
    "rf.feature_names = list(orig_train.feature_names)\n",
    "\n",
    "pfi_importances = pd.Series(\n",
    "    rf[-1].feature_importances_, index=rf.feature_names\n",
    ").sort_values(ascending=True)"
   ]
  },
  {
   "cell_type": "code",
   "execution_count": 43,
   "metadata": {
    "graffitiCellId": "id_sj40whv"
   },
   "outputs": [
    {
     "data": {
      "image/png": "[encoded data removed]",
      "text/plain": [
       "<Figure size 432x288 with 1 Axes>"
      ]
     },
     "metadata": {
      "needs_background": "light"
     },
     "output_type": "display_data"
    }
   ],
   "source": [
    "ax = pfi_importances.plot.barh()\n",
    "ax.set_title(\"Random Forest Feature Importances\")\n",
    "ax.figure.tight_layout()"
   ]
  },
  {
   "cell_type": "markdown",
   "metadata": {
    "graffitiCellId": "id_l7nuz4v"
   },
   "source": [
    "Question: Which interpretability mechanism did you choose? What are the key contributing factors?\n",
    "\n",
    "**Your answer:** The Permutation Feature Importance method that was selected in this case explains which features drive the model’s performance."
   ]
  },
  {
   "cell_type": "markdown",
   "metadata": {
    "graffitiCellId": "id_74rltdl"
   },
   "source": [
    "## Step 5: Apply a bias mitigation strategy"
   ]
  },
  {
   "cell_type": "markdown",
   "metadata": {
    "graffitiCellId": "id_ya2n8k0"
   },
   "source": [
    "In this section of the project, you will implement a bias mitigation strategy and evaluate the improvements in fairness on the data. Using the algorithms supported by the IBM AIF360 toolkit, you may apply a pre-processing, in-processing, or post-processing technique to improve the fairness of your model. Optionally, you may also consider combining multiple techniques.\n",
    "\n",
    "**Note:** If you select an in-processing algorithm that replaces the Logistic Regression or Gaussian NB model, you will be constructing a model card around the new algorithm you have selected and revising the existing model card content from previous sections to incorporate these details."
   ]
  },
  {
   "cell_type": "code",
   "execution_count": 44,
   "metadata": {
    "graffitiCellId": "id_70wlxm5"
   },
   "outputs": [],
   "source": [
    "#FILL IN - implement bias mitigation strategy\n",
    "#YOUR CODE HERE\n",
    "RW = Reweighing(unprivileged_groups=unprivileged_groups,\n",
    "                privileged_groups=privileged_groups)\n",
    "reweighed_data = RW.fit_transform(binary_act_dataset)"
   ]
  },
  {
   "cell_type": "code",
   "execution_count": 45,
   "metadata": {
    "graffitiCellId": "id_ugr5c35"
   },
   "outputs": [
    {
     "name": "stdout",
     "output_type": "stream",
     "text": [
      "Statistical Parity Difference = 0.000000\n",
      "Disparate impact: 1.0000\n"
     ]
    }
   ],
   "source": [
    "new_metric = BinaryLabelDatasetMetric(reweighed_data, \n",
    "                                      unprivileged_groups=unprivileged_groups,\n",
    "                                      privileged_groups=privileged_groups)\n",
    "\n",
    "print(\"Statistical Parity Difference = %f\" % new_metric.mean_difference())\n",
    "print(f\"Disparate impact: {new_metric.disparate_impact():.4f}\")"
   ]
  },
  {
   "cell_type": "code",
   "execution_count": 46,
   "metadata": {
    "graffitiCellId": "id_91yz46t"
   },
   "outputs": [],
   "source": [
    "(orig_train,\n",
    " orig_validate,\n",
    " orig_test) = reweighed_data.split([0.5, 0.8], shuffle=True)"
   ]
  },
  {
   "cell_type": "code",
   "execution_count": 47,
   "metadata": {
    "graffitiCellId": "id_uzn5q5a"
   },
   "outputs": [
    {
     "name": "stdout",
     "output_type": "stream",
     "text": [
      "Threshold corresponding to Best balanced accuracy: 0.3600\n",
      "Best balanced accuracy: 0.9932\n",
      "Corresponding average odds difference value: -0.0104\n",
      "Corresponding statistical parity difference value: 0.0060\n",
      "Corresponding equal opportunity difference value: 0.0025\n",
      "Corresponding Theil index value: 0.0048\n"
     ]
    }
   ],
   "source": [
    "#FILL IN\n",
    "#Obtain the new metric values after applying your bias mitigation strategy\n",
    "\n",
    "LR_model = LogisticRegression().fit(orig_train.features, orig_train.labels.ravel(), orig_train.instance_weights) \n",
    "thresh_arr = np.linspace(0.01, 0.5, 50)\n",
    "val_metrics, lr_pred = test(dataset=orig_test,\n",
    "                   model=LR_model,\n",
    "                   thresh_arr=thresh_arr)\n",
    "describe_metrics(val_metrics, thresh_arr)"
   ]
  },
  {
   "cell_type": "markdown",
   "metadata": {
    "graffitiCellId": "id_en0o0a1"
   },
   "source": [
    "**NOTE** Make sure at least two fairness metrics (average odds difference\n",
    "average statistical parity difference, equal opportunity difference, and theil index) are within the ideal threshold range for those metrics. A slightly higher benefit for the privileged group may still be seen, which is ok.\n",
    "\n",
    "Achieving the best possible accuracy and best-balanced accuracy are not the targets of this project - we recommend focusing on improving your results on the fairness metrics. It is recommended to have your balanced accuracy between 85%-100% but not required.\n",
    "\n",
    "**IMPORTANT! If less than two fairness metrics are within the ideal range, re-work on your strategy.**"
   ]
  },
  {
   "cell_type": "markdown",
   "metadata": {
    "graffitiCellId": "id_gspvc1k"
   },
   "source": [
    "Run performance evaluation plots (accuracy and confusion matrix) on the new prediction"
   ]
  },
  {
   "cell_type": "code",
   "execution_count": 48,
   "metadata": {
    "graffitiCellId": "id_wyxky5g"
   },
   "outputs": [
    {
     "name": "stdout",
     "output_type": "stream",
     "text": [
      "The accuracy of the model on the train set is: 99.58%\n"
     ]
    }
   ],
   "source": [
    "### FILL IN\n",
    "y_train_pred = LR_model.predict(orig_train.features)\n",
    "print('The accuracy of the model on the train set is: {:.2f}%'.format(accuracy_score(orig_train.labels.ravel(), y_train_pred)*100))"
   ]
  },
  {
   "cell_type": "code",
   "execution_count": 49,
   "metadata": {
    "graffitiCellId": "id_exhks6m"
   },
   "outputs": [
    {
     "data": {
      "image/png": "[encoded data removed]",
      "text/plain": [
       "<Figure size 432x288 with 2 Axes>"
      ]
     },
     "metadata": {
      "needs_background": "light"
     },
     "output_type": "display_data"
    }
   ],
   "source": [
    "cm = confusion_matrix(orig_train.labels.ravel(), y_train_pred, labels=LR_model.classes_)\n",
    "disp = ConfusionMatrixDisplay(confusion_matrix=cm,\n",
    "                              display_labels=LR_model.classes_)\n",
    "disp.plot()\n",
    "plt.show()"
   ]
  },
  {
   "cell_type": "code",
   "execution_count": 50,
   "metadata": {
    "graffitiCellId": "id_d1xi3sc"
   },
   "outputs": [
    {
     "data": {
      "text/plain": [
       "<Figure size 432x288 with 0 Axes>"
      ]
     },
     "metadata": {},
     "output_type": "display_data"
    }
   ],
   "source": [
    "plt.savefig('confusion_matrix_mitigation.png')"
   ]
  },
  {
   "cell_type": "markdown",
   "metadata": {
    "graffitiCellId": "id_z55kh9v"
   },
   "source": [
    "Next, re-create the interpretability plot from the previous section with your revised pipeline. "
   ]
  },
  {
   "cell_type": "code",
   "execution_count": 51,
   "metadata": {
    "graffitiCellId": "id_eu8ctc4"
   },
   "outputs": [
    {
     "data": {
      "text/plain": [
       "RandomForestClassifier(n_estimators=500, random_state=42)"
      ]
     },
     "execution_count": 51,
     "metadata": {},
     "output_type": "execute_result"
    }
   ],
   "source": [
    "### FILL IN\n",
    "rf = RandomForestClassifier(n_estimators=500, random_state=42)\n",
    "rf.fit(orig_train.features, orig_train.labels.ravel())"
   ]
  },
  {
   "cell_type": "code",
   "execution_count": 52,
   "metadata": {
    "graffitiCellId": "id_5cgn7v2"
   },
   "outputs": [],
   "source": [
    "rf.feature_names = list(orig_train.feature_names)\n",
    "\n",
    "pfi_importances = pd.Series(\n",
    "    rf[-1].feature_importances_, index=rf.feature_names\n",
    ").sort_values(ascending=True)"
   ]
  },
  {
   "cell_type": "code",
   "execution_count": 53,
   "metadata": {
    "graffitiCellId": "id_4i4y4gm"
   },
   "outputs": [
    {
     "data": {
      "image/png": "[encoded data removed]",
      "text/plain": [
       "<Figure size 432x288 with 1 Axes>"
      ]
     },
     "metadata": {
      "needs_background": "light"
     },
     "output_type": "display_data"
    }
   ],
   "source": [
    "ax = pfi_importances.plot.barh()\n",
    "ax.set_title(\"Random Forest Feature Importances\")\n",
    "ax.figure.tight_layout()"
   ]
  },
  {
   "cell_type": "code",
   "execution_count": 58,
   "metadata": {
    "graffitiCellId": "id_t5cowt6"
   },
   "outputs": [
    {
     "data": {
      "text/plain": [
       "<Figure size 432x288 with 0 Axes>"
      ]
     },
     "metadata": {},
     "output_type": "display_data"
    }
   ],
   "source": [
    "plt.savefig('PFI_mitigation.png')"
   ]
  },
  {
   "cell_type": "markdown",
   "metadata": {
    "graffitiCellId": "id_zpbv7d2"
   },
   "source": [
    "Note down a short summary reporting the values of the metrics and your findings. This will be the quantitative analysis section of the model card.\n",
    "- Please ensure you report the fairness metrics **before** applying your bias mitigation strategy (after the train-val-test split), and **after** applying the strategy in the final_metrics_description variable.\n",
    "- Pick 1-2 metrics of your choice, interpret the fairness metrics in relation to the ideal values and thresholds and further identify the implications of the results. "
   ]
  },
  {
   "cell_type": "code",
   "execution_count": 59,
   "metadata": {
    "graffitiCellId": "id_pi25pli"
   },
   "outputs": [],
   "source": [
    "final_metrics_description = \"\"\"\n",
    "--\n",
    "--Before:\n",
    "-- We see that before applying the Bias Mitigation method, there was a higher benefit for the priviliged group (based on the statistical parity difference value)\n",
    "-- Statistical parity difference value: -0.5676\n",
    "-- Equal opportunity difference value: -0.0000\n",
    "--After:\n",
    "-- After the Bias Mitigation technique, the statistical parity difference value incresed over 0, showing that there is a higher benefit for the unprivileged group.\n",
    "-- We also see that the equal opportunity difference value slightly decreased (showing a slight higher benefit for the privileged group).\n",
    "-- However, the change is rather small.\n",
    "-- Statistical parity difference value: 0.0042\n",
    "-- Equal opportunity difference value: -0.0005\n",
    "--\n",
    "\"\"\""
   ]
  },
  {
   "cell_type": "markdown",
   "metadata": {
    "graffitiCellId": "id_r34jacu"
   },
   "source": [
    "As part of the last coding step of this project, stratify the dataset by the Education Level feature, and create a small cohort analysis plot showing the performance on the y-axis and the Education Levels on the x-axis."
   ]
  },
  {
   "cell_type": "code",
   "execution_count": 60,
   "metadata": {
    "graffitiCellId": "id_0r9z0zs"
   },
   "outputs": [],
   "source": [
    "##Fill in\n",
    "cohort_analysis = orig_test.convert_to_dataframe()[0]\n",
    "cohort_analysis['Prediction'] = lr_pred"
   ]
  },
  {
   "cell_type": "code",
   "execution_count": 61,
   "metadata": {
    "graffitiCellId": "id_ouk47rb"
   },
   "outputs": [],
   "source": [
    "bsc_edu = cohort_analysis.loc[cohort_analysis['Education_Level_Bachelor’s Degree'] == 1]\n",
    "msc_edu = cohort_analysis.loc[cohort_analysis['Education_Level_Master’s Degree'] == 1]\n",
    "hs_edu = cohort_analysis.loc[cohort_analysis['Education_Level_High School Grad'] == 1]"
   ]
  },
  {
   "cell_type": "code",
   "execution_count": 62,
   "metadata": {
    "graffitiCellId": "id_yqkxgq4"
   },
   "outputs": [],
   "source": [
    "bsc_acc = accuracy_score(bsc_edu['Budget (in dollars)_high_budget'], bsc_edu['Prediction'])\n",
    "msc_acc = accuracy_score(msc_edu['Budget (in dollars)_high_budget'], msc_edu['Prediction'])\n",
    "hs_acc = accuracy_score(hs_edu['Budget (in dollars)_high_budget'], hs_edu['Prediction'])"
   ]
  },
  {
   "cell_type": "code",
   "execution_count": 63,
   "metadata": {
    "graffitiCellId": "id_7y3glos"
   },
   "outputs": [
    {
     "data": {
      "image/png": "[encoded data removed]",
      "text/plain": [
       "<Figure size 720x360 with 1 Axes>"
      ]
     },
     "metadata": {
      "needs_background": "light"
     },
     "output_type": "display_data"
    }
   ],
   "source": [
    "data = {'BSc Degree': bsc_acc,\n",
    "        'MSc Degree': msc_acc,\n",
    "        'High School Grad': hs_acc}\n",
    "names = list(data.keys())\n",
    "values = list(data.values())\n",
    "  \n",
    "fig = plt.figure(figsize = (10, 5))\n",
    " \n",
    "# creating the bar plot\n",
    "plt.bar(names, values, color ='lightblue', width = 0.4)\n",
    " \n",
    "plt.xlabel(\"Education Level\")\n",
    "plt.ylabel(\"Accuracy\")\n",
    "plt.title(\"Model Accuracy @Education Level\")\n",
    "plt.show()"
   ]
  },
  {
   "cell_type": "code",
   "execution_count": 67,
   "metadata": {
    "graffitiCellId": "id_pjwmzoy"
   },
   "outputs": [
    {
     "data": {
      "text/plain": [
       "<Figure size 432x288 with 0 Axes>"
      ]
     },
     "metadata": {},
     "output_type": "display_data"
    }
   ],
   "source": [
    "plt.savefig('cohort_acc.png')"
   ]
  },
  {
   "cell_type": "markdown",
   "metadata": {
    "graffitiCellId": "id_3trifsk"
   },
   "source": [
    "**Take a moment to save the visualization reports you generated in this section and enter the file paths into the image_file_path variable below**."
   ]
  },
  {
   "cell_type": "code",
   "execution_count": 68,
   "metadata": {
    "graffitiCellId": "id_7ikw5p1"
   },
   "outputs": [],
   "source": [
    "#FILL IN - save all visualization plots \n",
    "#from the \"Apply a bias mitigation strategy\" section\n",
    "#plt.savefig('file_name.png')\n",
    "\n",
    "#Replace the REPLACE_FILE_NAME placeholder with the image paths\n",
    "#of the visualizations you have generated for the model card\n",
    "image_file_path =\"\"\"\n",
    "  <img src=\"confusion_matrix_mitigation.png\"><br/>\n",
    "  <img src=\"PFI_mitigation.png\"><br/>\n",
    "  <img src=\"cohort_acc.png\"><br/>\n",
    "\"\"\""
   ]
  },
  {
   "cell_type": "markdown",
   "metadata": {
    "graffitiCellId": "id_vrw2356"
   },
   "source": [
    "**Optional**: You may choose to create a cohort analysis plot showing the fairness metric values on the y-axis and the Education Levels on the x-axis."
   ]
  },
  {
   "cell_type": "code",
   "execution_count": null,
   "metadata": {
    "graffitiCellId": "id_ot3j5qa"
   },
   "outputs": [],
   "source": [
    "#Optional save image for the fairness corhort analysis\n",
    "#plt.savefig('images/optional_fairness_cohort_analysis') "
   ]
  },
  {
   "cell_type": "markdown",
   "metadata": {
    "graffitiCellId": "id_84x7023"
   },
   "source": [
    "## Step 6: Articulate the ethical implications"
   ]
  },
  {
   "cell_type": "markdown",
   "metadata": {
    "graffitiCellId": "id_7t1u5dy"
   },
   "source": [
    "Articulate the use case and ethical considerations applying to the dataset in 1-2 paragraphs.\n",
    "\n",
    "**Hints:** \n",
    " \n",
    "- Think about the limitations of the dataset, potential biases that could be introduced into the use case, and the strengths and weaknesses of your ML model.\n",
    "- Ethical Considerations:\n",
    " - Human-in-the-loop considerations: Can users control aspects of the model and inspect the features? If so, briefly describe how?\n",
    " - Describe the limitations and types of bias present in the data\n",
    " - Describe the failures of the ML model\n",
    " - It must include a section on any risk mitigation strategies you applied.\n",
    " - Describe Potential harms\n",
    " - It must include key contributing factors you found from your interpretability study, both before and after applying the bias mitigation strategy.\n",
    "\n",
    "- Caveats and Recommendations\n",
    " - Potential lack of inclusiveness in the dataset\n",
    " - Predisposition of the model to false positives and/or negatives\n",
    " - It must also include 1-2 sentences on the further ethical AI analyses you would apply if given more time beyond this project."
   ]
  },
  {
   "cell_type": "code",
   "execution_count": 54,
   "metadata": {
    "graffitiCellId": "id_alqn03u"
   },
   "outputs": [],
   "source": [
    "#FILL IN\n",
    "ethical_considerations=\"\"\"\n",
    "-- The users can inspect the features of the model since the data come from their input. \n",
    "-- However, the model is often percieved as a black box so many people might have difficulties in intepreting the whole process\n",
    "-- of how the results arise.\n",
    "-- For mitigating the bias, we chose to apply reweighting to the dataset so that the model \"treats\" users in more fair way\n",
    "-- despite their attributes.\n",
    "-- A potential harm is that some users might not want to provide the required information needed to train the model (we removed the rows where\n",
    "-- there was a null value). This would affect the results since the model hasn't been trained on such cases, so its accuracy might drop dramatically.\n",
    "-- Based on the interpretability analysis, we see that most of the features that contributed towards model's accuracy before applying the bias mitigation\n",
    "-- technique, still play an important role. However, the effect of the Age_young_adult feature on the model accuracy is minimized in the end.\n",
    "\"\"\"\n",
    "caveats_and_recommendations=\"\"\"\n",
    "-- The sample of users may not be a good representation since it is more likely that younger people would use such an app\n",
    "-- or in general, digital means. Older people might not be that familiar to this tech field or/and might be uninterested in using\n",
    "-- such activity recommendation apps.\n",
    "-- Further ethical AI analyses I would apply beyond this project: I would probably apply an additional\n",
    "-- bias mitigation technique to further enhance the fairness metrics of the models. in addition to this,\n",
    "-- I might experiment with other types of models as well.\n",
    "\"\"\""
   ]
  },
  {
   "cell_type": "markdown",
   "metadata": {
    "graffitiCellId": "id_nis6lv5"
   },
   "source": [
    "- Business consequences\n",
    " - Potential positive impact of the IDOOU Budget Predicter AI\n",
    " - Reasons why users may lose trust in the application, and loss of revenue and brand reputation might occur to the organization"
   ]
  },
  {
   "cell_type": "code",
   "execution_count": 55,
   "metadata": {
    "graffitiCellId": "id_u3v0oyt"
   },
   "outputs": [],
   "source": [
    "business_consequences=\"\"\"\n",
    "\n",
    "-- Positive Impact: thanks to the trained model, the app can make suitable suggestions to its users.\n",
    "-- The fact that the FN rate is higher than the one of the FP, makes us feel less worried that the users won't be satisfied\n",
    "-- from the recommendations. This is due to the fact that, even if a high-budget user is misclassified a low-budget, the activity wil still\n",
    "-- be within their budget.\n",
    "\n",
    "-- Negative Impact: The users might get the same recommendations due to the classification and they might feel\n",
    "-- they are stereotyped.\n",
    "\"\"\""
   ]
  },
  {
   "cell_type": "markdown",
   "metadata": {
    "graffitiCellId": "id_9m1jcrd"
   },
   "source": [
    "## Document the solution in a model card"
   ]
  },
  {
   "cell_type": "markdown",
   "metadata": {
    "graffitiCellId": "id_z9j2suj"
   },
   "source": [
    "You're at the finish line! Run the last few blocks of code to generate a simple html file with your model card content and the visualizations you generated for the final version of your model.\n",
    "\n",
    "Make sure to open the html file and check that it is reflective of your model card content before submitting.\n",
    "\n",
    "Optionally, feel free to modify the html code and add more details/aesthetics."
   ]
  },
  {
   "cell_type": "code",
   "execution_count": 69,
   "metadata": {
    "graffitiCellId": "id_qp2r6km",
    "scrolled": false
   },
   "outputs": [],
   "source": [
    "html_code = f\"\"\"\n",
    "<html>\n",
    "  <head>\n",
    "  </head>\n",
    "  <body>\n",
    "  <center><h1>Model Card - IDOOU AI Budget Predicter</h1></center>\n",
    "  <h2>Model Details</h2>\n",
    "  {model_details}\n",
    "  <h2>Intended Use</h2>\n",
    "  {intended_use}\n",
    "  <h2>Factors</h2>\n",
    "  {factors}\n",
    "  <h2>Metrics</h2>\n",
    "  {metrics}\n",
    "  <h2> Training Data </h2>\n",
    "  {training_data}\n",
    "  <h2> Evaluation Data </h2>\n",
    "  {eval_data}\n",
    "  <h2>Quantitative Analysis</h2>\n",
    "  #{final_metrics_description}\n",
    "  \n",
    "  <br/><br/><b>Results of the AI model after applying the bias mitigation strategy</b><br/>\n",
    "  \n",
    "  <center>\n",
    "  {image_file_path}\n",
    "  </center>\n",
    "\n",
    "  <h2>Ethical Considerations</h2>\n",
    "  {ethical_considerations}\n",
    "  <h2>Caveats and Recommendations</h2>\n",
    "  {caveats_and_recommendations}\n",
    "  <h2>Business Consequences</h2>\n",
    "  {business_consequences}\n",
    "  </body>\n",
    "</html>\"\"\"\n",
    "html_code = html_code.replace('--', '<br>--')"
   ]
  },
  {
   "cell_type": "code",
   "execution_count": 70,
   "metadata": {
    "graffitiCellId": "id_58wh496"
   },
   "outputs": [],
   "source": [
    "with open('model_card.html', 'w') as f:\n",
    "    f.write(html_code)"
   ]
  },
  {
   "cell_type": "markdown",
   "metadata": {
    "graffitiCellId": "id_3wlsun6"
   },
   "source": [
    "Download and zip the .html report, the images you generated, and this Jupyter notebook, and you're ready for submission!"
   ]
  }
 ],
 "metadata": {
  "graffiti": {
   "firstAuthorId": "11811568868",
   "id": "id_v8f7uv3",
   "language": "EN"
  },
  "kernelspec": {
   "display_name": "Python 3",
   "language": "python",
   "name": "python3"
  },
  "language_info": {
   "codemirror_mode": {
    "name": "ipython",
    "version": 3
   },
   "file_extension": ".py",
   "mimetype": "text/x-python",
   "name": "python",
   "nbconvert_exporter": "python",
   "pygments_lexer": "ipython3",
   "version": "3.7.6"
  }
 },
 "nbformat": 4,
 "nbformat_minor": 5
}
